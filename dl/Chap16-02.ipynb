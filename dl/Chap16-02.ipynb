{
 "cells": [
  {
   "cell_type": "code",
   "execution_count": 1,
   "id": "f396ddd0",
   "metadata": {},
   "outputs": [],
   "source": [
    "from tensorflow.keras import models, layers\n",
    "from tensorflow.keras.callbacks import EarlyStopping, ModelCheckpoint\n",
    "import numpy as np\n",
    "from tensorflow.keras.datasets import mnist\n",
    "from tensorflow.keras.utils import to_categorical\n",
    "import matplotlib.pyplot as plt\n",
    "import os\n",
    "os.environ[\"KMP_DUPLICATE_LIB_OK\"]='1'"
   ]
  },
  {
   "cell_type": "code",
   "execution_count": 2,
   "id": "4e8340cd",
   "metadata": {},
   "outputs": [],
   "source": [
    "(X_train, y_train), (X_test, y_test) = mnist.load_data()\n",
    "\n",
    "# 1은 흑백 채널, 3은 컬러 채널\n",
    "X_train = X_train.reshape(X_train.shape[0], 28, 28, 1).astype(float) / 255\n",
    "X_test = X_test.reshape(X_test.shape[0], 28, 28, 1).astype(float) / 255\n",
    "y_train = to_categorical(y_train)\n",
    "y_test = to_categorical(y_test)"
   ]
  },
  {
   "cell_type": "code",
   "execution_count": 3,
   "id": "79bc6300",
   "metadata": {},
   "outputs": [
    {
     "name": "stdout",
     "output_type": "stream",
     "text": [
      "Model: \"sequential\"\n",
      "_________________________________________________________________\n",
      " Layer (type)                Output Shape              Param #   \n",
      "=================================================================\n",
      " conv2d (Conv2D)             (None, 26, 26, 32)        320       \n",
      "                                                                 \n",
      " conv2d_1 (Conv2D)           (None, 24, 24, 64)        18496     \n",
      "                                                                 \n",
      " max_pooling2d (MaxPooling2D  (None, 12, 12, 64)       0         \n",
      " )                                                               \n",
      "                                                                 \n",
      " dropout (Dropout)           (None, 12, 12, 64)        0         \n",
      "                                                                 \n",
      " flatten (Flatten)           (None, 9216)              0         \n",
      "                                                                 \n",
      " dense (Dense)               (None, 128)               1179776   \n",
      "                                                                 \n",
      " dropout_1 (Dropout)         (None, 128)               0         \n",
      "                                                                 \n",
      " dense_1 (Dense)             (None, 10)                1290      \n",
      "                                                                 \n",
      "=================================================================\n",
      "Total params: 1,199,882\n",
      "Trainable params: 1,199,882\n",
      "Non-trainable params: 0\n",
      "_________________________________________________________________\n"
     ]
    }
   ],
   "source": [
    "model = models.Sequential()\n",
    "model.add(layers.Conv2D(32, kernel_size=(3, 3), input_shape=(28, 28, 1), activation='relu'))\n",
    "model.add(layers.Conv2D(64, kernel_size=(3, 3), activation='relu'))\n",
    "model.add(layers.MaxPooling2D(pool_size=(2, 2)))\n",
    "\n",
    "# 배치 단위 중 25%를 무작위로 끊어서 계산함(과대적합을 완화 목적)\n",
    "model.add(layers.Dropout(0.25))\n",
    "model.add(layers.Flatten())\n",
    "model.add(layers.Dense(128, activation='relu'))\n",
    "model.add(layers.Dropout(0.25))\n",
    "model.add(layers.Dense(10, activation='softmax'))\n",
    "model.summary()\n",
    "\n"
   ]
  },
  {
   "cell_type": "code",
   "execution_count": 4,
   "id": "d6c8a153",
   "metadata": {},
   "outputs": [
    {
     "data": {
      "text/plain": [
       "320"
      ]
     },
     "execution_count": 4,
     "metadata": {},
     "output_type": "execute_result"
    }
   ],
   "source": [
    "(32*9) + 32"
   ]
  },
  {
   "cell_type": "code",
   "execution_count": 5,
   "id": "ea908b3c",
   "metadata": {},
   "outputs": [
    {
     "data": {
      "text/plain": [
       "18496"
      ]
     },
     "execution_count": 5,
     "metadata": {},
     "output_type": "execute_result"
    }
   ],
   "source": [
    "64*32*9 + 64"
   ]
  },
  {
   "cell_type": "code",
   "execution_count": 6,
   "id": "9a9cba9e",
   "metadata": {},
   "outputs": [
    {
     "data": {
      "text/plain": [
       "9216"
      ]
     },
     "execution_count": 6,
     "metadata": {},
     "output_type": "execute_result"
    }
   ],
   "source": [
    "12*12*64 "
   ]
  },
  {
   "cell_type": "code",
   "execution_count": 7,
   "id": "a3e04e54",
   "metadata": {},
   "outputs": [
    {
     "data": {
      "text/plain": [
       "1179776"
      ]
     },
     "execution_count": 7,
     "metadata": {},
     "output_type": "execute_result"
    }
   ],
   "source": [
    "9216*128+128"
   ]
  },
  {
   "cell_type": "code",
   "execution_count": 8,
   "id": "a6db1dba",
   "metadata": {},
   "outputs": [
    {
     "data": {
      "text/plain": [
       "1290"
      ]
     },
     "execution_count": 8,
     "metadata": {},
     "output_type": "execute_result"
    }
   ],
   "source": [
    "128*10 +10"
   ]
  },
  {
   "cell_type": "code",
   "execution_count": 9,
   "id": "bd0a4ba5",
   "metadata": {},
   "outputs": [
    {
     "data": {
      "text/plain": [
       "1199882"
      ]
     },
     "execution_count": 9,
     "metadata": {},
     "output_type": "execute_result"
    }
   ],
   "source": [
    "320 + 18496 + 1179776 + 1290"
   ]
  },
  {
   "cell_type": "code",
   "execution_count": 10,
   "id": "54012e93",
   "metadata": {},
   "outputs": [],
   "source": [
    "model.compile(loss='categorical_crossentropy', optimizer='adam',\n",
    "             metrics=['accuracy'])"
   ]
  },
  {
   "cell_type": "code",
   "execution_count": 11,
   "id": "b6784bce",
   "metadata": {},
   "outputs": [
    {
     "name": "stdout",
     "output_type": "stream",
     "text": [
      "Epoch 1/30\n",
      "225/225 [==============================] - 26s 111ms/step - loss: 0.2635 - accuracy: 0.9195 - val_loss: 0.0715 - val_accuracy: 0.9797\n",
      "Epoch 2/30\n",
      "225/225 [==============================] - 25s 110ms/step - loss: 0.0703 - accuracy: 0.9790 - val_loss: 0.0531 - val_accuracy: 0.9843\n",
      "Epoch 3/30\n",
      "225/225 [==============================] - 25s 110ms/step - loss: 0.0461 - accuracy: 0.9859 - val_loss: 0.0511 - val_accuracy: 0.9856\n",
      "Epoch 4/30\n",
      "225/225 [==============================] - 25s 109ms/step - loss: 0.0343 - accuracy: 0.9890 - val_loss: 0.0428 - val_accuracy: 0.9875\n",
      "Epoch 5/30\n",
      "225/225 [==============================] - 25s 110ms/step - loss: 0.0271 - accuracy: 0.9909 - val_loss: 0.0422 - val_accuracy: 0.9868\n",
      "Epoch 6/30\n",
      "225/225 [==============================] - 28s 124ms/step - loss: 0.0214 - accuracy: 0.9930 - val_loss: 0.0427 - val_accuracy: 0.9886\n",
      "Epoch 7/30\n",
      "225/225 [==============================] - 26s 115ms/step - loss: 0.0197 - accuracy: 0.9935 - val_loss: 0.0512 - val_accuracy: 0.9863\n",
      "Epoch 8/30\n",
      "225/225 [==============================] - 28s 122ms/step - loss: 0.0169 - accuracy: 0.9944 - val_loss: 0.0444 - val_accuracy: 0.9881\n",
      "Epoch 9/30\n",
      "225/225 [==============================] - 27s 121ms/step - loss: 0.0123 - accuracy: 0.9960 - val_loss: 0.0425 - val_accuracy: 0.9892\n",
      "Epoch 10/30\n",
      "225/225 [==============================] - 27s 122ms/step - loss: 0.0129 - accuracy: 0.9954 - val_loss: 0.0446 - val_accuracy: 0.9883\n",
      "Epoch 11/30\n",
      "225/225 [==============================] - 26s 117ms/step - loss: 0.0110 - accuracy: 0.9961 - val_loss: 0.0398 - val_accuracy: 0.9902\n",
      "Epoch 12/30\n",
      "225/225 [==============================] - 27s 120ms/step - loss: 0.0111 - accuracy: 0.9961 - val_loss: 0.0440 - val_accuracy: 0.9894\n",
      "Epoch 13/30\n",
      "225/225 [==============================] - 25s 112ms/step - loss: 0.0092 - accuracy: 0.9967 - val_loss: 0.0498 - val_accuracy: 0.9885\n",
      "Epoch 14/30\n",
      "225/225 [==============================] - 25s 113ms/step - loss: 0.0100 - accuracy: 0.9967 - val_loss: 0.0540 - val_accuracy: 0.9875\n",
      "Epoch 15/30\n",
      "225/225 [==============================] - 27s 118ms/step - loss: 0.0078 - accuracy: 0.9973 - val_loss: 0.0467 - val_accuracy: 0.9895\n",
      "Epoch 16/30\n",
      "225/225 [==============================] - 26s 114ms/step - loss: 0.0078 - accuracy: 0.9976 - val_loss: 0.0439 - val_accuracy: 0.9907\n",
      "Epoch 17/30\n",
      "225/225 [==============================] - 25s 112ms/step - loss: 0.0064 - accuracy: 0.9977 - val_loss: 0.0500 - val_accuracy: 0.9892\n",
      "Epoch 18/30\n",
      "225/225 [==============================] - 26s 118ms/step - loss: 0.0076 - accuracy: 0.9973 - val_loss: 0.0449 - val_accuracy: 0.9900\n",
      "Epoch 19/30\n",
      "225/225 [==============================] - 27s 120ms/step - loss: 0.0077 - accuracy: 0.9974 - val_loss: 0.0455 - val_accuracy: 0.9892\n",
      "Epoch 20/30\n",
      "225/225 [==============================] - 27s 120ms/step - loss: 0.0059 - accuracy: 0.9979 - val_loss: 0.0483 - val_accuracy: 0.9901\n",
      "Epoch 21/30\n",
      "225/225 [==============================] - 26s 115ms/step - loss: 0.0061 - accuracy: 0.9978 - val_loss: 0.0474 - val_accuracy: 0.9905\n"
     ]
    }
   ],
   "source": [
    "early_stopping = EarlyStopping(monitor='val_loss', patience=10)\n",
    "history = model.fit(X_train, y_train, validation_split=0.25,\n",
    "                   epochs=30, batch_size=200, callbacks=[early_stopping])"
   ]
  },
  {
   "cell_type": "code",
   "execution_count": 12,
   "id": "0e9aa204",
   "metadata": {},
   "outputs": [
    {
     "name": "stdout",
     "output_type": "stream",
     "text": [
      "313/313 [==============================] - 2s 5ms/step - loss: 0.0353 - accuracy: 0.9926\n",
      "Test Accuracy: 0.9926\n"
     ]
    }
   ],
   "source": [
    "print('Test Accuracy: %.4f' % (model.evaluate(X_test, y_test)[1]))"
   ]
  },
  {
   "cell_type": "code",
   "execution_count": 13,
   "id": "39035f5d",
   "metadata": {},
   "outputs": [
    {
     "data": {
      "image/png": "[encoded data removed]",
      "text/plain": [
       "<Figure size 640x480 with 1 Axes>"
      ]
     },
     "metadata": {},
     "output_type": "display_data"
    }
   ],
   "source": [
    "# 검증셋과 학습셋의 오차를 저장합니다. \n",
    "y_vloss = history.history['val_loss']\n",
    "y_loss = history.history['loss']\n",
    "\n",
    "# 그래프로 표현해 봅니다.\n",
    "x_len = np.arange(len(y_loss))\n",
    "plt.plot(x_len, y_vloss, marker='.', c=\"red\", label='Testset_loss')\n",
    "plt.plot(x_len, y_loss, marker='.', c=\"blue\", label='Trainset_loss')\n",
    "\n",
    "# 그래프에 그리드를 주고 레이블을 표시해 보겠습니다.\n",
    "plt.legend(loc='upper right')\n",
    "plt.grid()\n",
    "plt.xlabel('epoch')\n",
    "plt.ylabel('loss')\n",
    "plt.show()"
   ]
  }
 ],
 "metadata": {
  "kernelspec": {
   "display_name": "Python 3 (ipykernel)",
   "language": "python",
   "name": "python3"
  },
  "language_info": {
   "codemirror_mode": {
    "name": "ipython",
    "version": 3
   },
   "file_extension": ".py",
   "mimetype": "text/x-python",
   "name": "python",
   "nbconvert_exporter": "python",
   "pygments_lexer": "ipython3",
   "version": "3.8.15"
  }
 },
 "nbformat": 4,
 "nbformat_minor": 5
}
