{
 "cells": [
  {
   "cell_type": "code",
   "execution_count": 1,
   "id": "67c0186d",
   "metadata": {},
   "outputs": [
    {
     "name": "stderr",
     "output_type": "stream",
     "text": [
      "C:\\Users\\BIT\\AppData\\Local\\Temp\\ipykernel_14156\\661531353.py:1: DeprecationWarning: Importing display from IPython.core.display is deprecated since IPython 7.14, please import from IPython display\n",
      "  from IPython.core.display import display, HTML\n"
     ]
    },
    {
     "data": {
      "text/html": [
       "<style>.container { width:90% !important; }</style>"
      ],
      "text/plain": [
       "<IPython.core.display.HTML object>"
      ]
     },
     "metadata": {},
     "output_type": "display_data"
    }
   ],
   "source": [
    "from IPython.core.display import display, HTML\n",
    "display(HTML(\"<style>.container { width:90% !important; }</style>\"))\n",
    "from tensorflow.keras import models, layers, optimizers\n",
    "from tensorflow.keras.preprocessing.image import ImageDataGenerator\n",
    "from tensorflow.keras.callbacks import EarlyStopping\n",
    "import numpy as np\n",
    "import matplotlib.pyplot as plt\n",
    "import os\n",
    "os.environ[\"KMP_DUPLICATE_LIB_OK\"]=\"TRUE\"\n",
    "from tensorflow.keras.applications import VGG16"
   ]
  },
  {
   "cell_type": "code",
   "execution_count": 2,
   "id": "6d8fb4b7",
   "metadata": {},
   "outputs": [],
   "source": [
    "BATCH_SIZE = 5"
   ]
  },
  {
   "cell_type": "code",
   "execution_count": 3,
   "id": "6fd2918c",
   "metadata": {},
   "outputs": [],
   "source": [
    "train_datagen = ImageDataGenerator(rescale=1./255,          # 주어진 이미지의 크기를 설정합니다.\n",
    "                                  horizontal_flip=True,     # 수평 대칭 이미지를 50% 확률로 만들어 추가합니다.\n",
    "                                  width_shift_range=0.1,    # 전체 크기의 15% 범위에서 좌우로 이동합니다.\n",
    "                                  height_shift_range=0.1,   # 마찬가지로 위, 아래로 이동합니다.\n",
    "                                  #rotation_range=5,        # 정해진 각도만큼 회전시킵니다.\n",
    "                                  #shear_range=0.7,         # 좌표 하나를 고정시키고 나머지를 이동시킵니다.\n",
    "                                  #zoom_range=1.2,          # 확대 또는 축소시킵니다.\n",
    "                                  #vertical_flip=True,      # 수직 대칭 이미지를 만듭니다.\n",
    "                                  #fill_mode='nearest'      # 빈 공간을 채우는 방법입니다. nearest 옵션은 가장 비슷한 색으로 채우게 됩니다.\n",
    "                                  )     "
   ]
  },
  {
   "cell_type": "code",
   "execution_count": 4,
   "id": "daa995c0",
   "metadata": {},
   "outputs": [
    {
     "name": "stdout",
     "output_type": "stream",
     "text": [
      "Found 160 images belonging to 2 classes.\n"
     ]
    }
   ],
   "source": [
    "train_generator = train_datagen.flow_from_directory(\n",
    "       './data/train',   # 학습셋이 있는 폴더의 위치입니다.\n",
    "       target_size=(150, 150),\n",
    "       batch_size=BATCH_SIZE,\n",
    "       class_mode='binary')"
   ]
  },
  {
   "cell_type": "code",
   "execution_count": 5,
   "id": "454cd203",
   "metadata": {},
   "outputs": [
    {
     "name": "stdout",
     "output_type": "stream",
     "text": [
      "Found 120 images belonging to 2 classes.\n"
     ]
    }
   ],
   "source": [
    "test_datagen = ImageDataGenerator(rescale=1./255)  \n",
    "\n",
    "test_generator = test_datagen.flow_from_directory(\n",
    "       './data/test',   # 테스트셋이 있는 폴더의 위치입니다.\n",
    "       target_size=(150, 150),\n",
    "       batch_size=BATCH_SIZE,\n",
    "       class_mode='binary')"
   ]
  },
  {
   "cell_type": "code",
   "execution_count": 6,
   "id": "4095bf9d",
   "metadata": {},
   "outputs": [
    {
     "name": "stdout",
     "output_type": "stream",
     "text": [
      "Downloading data from https://storage.googleapis.com/tensorflow/keras-applications/vgg16/vgg16_weights_tf_dim_ordering_tf_kernels_notop.h5\n",
      "58889256/58889256 [==============================] - 1s 0us/step\n",
      "Model: \"vgg16\"\n",
      "_________________________________________________________________\n",
      " Layer (type)                Output Shape              Param #   \n",
      "=================================================================\n",
      " input_1 (InputLayer)        [(None, 150, 150, 3)]     0         \n",
      "                                                                 \n",
      " block1_conv1 (Conv2D)       (None, 150, 150, 64)      1792      \n",
      "                                                                 \n",
      " block1_conv2 (Conv2D)       (None, 150, 150, 64)      36928     \n",
      "                                                                 \n",
      " block1_pool (MaxPooling2D)  (None, 75, 75, 64)        0         \n",
      "                                                                 \n",
      " block2_conv1 (Conv2D)       (None, 75, 75, 128)       73856     \n",
      "                                                                 \n",
      " block2_conv2 (Conv2D)       (None, 75, 75, 128)       147584    \n",
      "                                                                 \n",
      " block2_pool (MaxPooling2D)  (None, 37, 37, 128)       0         \n",
      "                                                                 \n",
      " block3_conv1 (Conv2D)       (None, 37, 37, 256)       295168    \n",
      "                                                                 \n",
      " block3_conv2 (Conv2D)       (None, 37, 37, 256)       590080    \n",
      "                                                                 \n",
      " block3_conv3 (Conv2D)       (None, 37, 37, 256)       590080    \n",
      "                                                                 \n",
      " block3_pool (MaxPooling2D)  (None, 18, 18, 256)       0         \n",
      "                                                                 \n",
      " block4_conv1 (Conv2D)       (None, 18, 18, 512)       1180160   \n",
      "                                                                 \n",
      " block4_conv2 (Conv2D)       (None, 18, 18, 512)       2359808   \n",
      "                                                                 \n",
      " block4_conv3 (Conv2D)       (None, 18, 18, 512)       2359808   \n",
      "                                                                 \n",
      " block4_pool (MaxPooling2D)  (None, 9, 9, 512)         0         \n",
      "                                                                 \n",
      " block5_conv1 (Conv2D)       (None, 9, 9, 512)         2359808   \n",
      "                                                                 \n",
      " block5_conv2 (Conv2D)       (None, 9, 9, 512)         2359808   \n",
      "                                                                 \n",
      " block5_conv3 (Conv2D)       (None, 9, 9, 512)         2359808   \n",
      "                                                                 \n",
      " block5_pool (MaxPooling2D)  (None, 4, 4, 512)         0         \n",
      "                                                                 \n",
      "=================================================================\n",
      "Total params: 14,714,688\n",
      "Trainable params: 0\n",
      "Non-trainable params: 14,714,688\n",
      "_________________________________________________________________\n"
     ]
    }
   ],
   "source": [
    "transfer_model = VGG16(weights='imagenet', include_top=False,\n",
    "                      input_shape=(150, 150, 3))\n",
    "\n",
    "transfer_model.trainable = False\n",
    "transfer_model.summary()"
   ]
  },
  {
   "cell_type": "code",
   "execution_count": 8,
   "id": "c170128d",
   "metadata": {},
   "outputs": [
    {
     "name": "stdout",
     "output_type": "stream",
     "text": [
      "Model: \"sequential_1\"\n",
      "_________________________________________________________________\n",
      " Layer (type)                Output Shape              Param #   \n",
      "=================================================================\n",
      " vgg16 (Functional)          (None, 4, 4, 512)         14714688  \n",
      "                                                                 \n",
      " flatten (Flatten)           (None, 8192)              0         \n",
      "                                                                 \n",
      " dense (Dense)               (None, 64)                524352    \n",
      "                                                                 \n",
      " activation (Activation)     (None, 64)                0         \n",
      "                                                                 \n",
      " dropout (Dropout)           (None, 64)                0         \n",
      "                                                                 \n",
      " dense_1 (Dense)             (None, 1)                 65        \n",
      "                                                                 \n",
      " activation_1 (Activation)   (None, 1)                 0         \n",
      "                                                                 \n",
      "=================================================================\n",
      "Total params: 15,239,105\n",
      "Trainable params: 524,417\n",
      "Non-trainable params: 14,714,688\n",
      "_________________________________________________________________\n"
     ]
    }
   ],
   "source": [
    "finetune_model = models.Sequential()\n",
    "finetune_model.add(transfer_model)\n",
    "finetune_model.add(layers.Flatten())\n",
    "finetune_model.add(layers.Dense(64))\n",
    "finetune_model.add(layers.Activation('relu'))\n",
    "finetune_model.add(layers.Dropout(0.5))\n",
    "finetune_model.add(layers.Dense(1))\n",
    "finetune_model.add(layers.Activation('sigmoid'))\n",
    "finetune_model.summary()\n"
   ]
  },
  {
   "cell_type": "code",
   "execution_count": 9,
   "id": "1297997b",
   "metadata": {},
   "outputs": [],
   "source": [
    "finetune_model.compile(loss='binary_crossentropy',\n",
    "                      optimizer=optimizers.Adam(learning_rate=0.0002),\n",
    "                      metrics=['accuracy'])\n",
    "\n",
    "early_stopping = EarlyStopping(monitor='val_loss', patience=5)"
   ]
  },
  {
   "cell_type": "code",
   "execution_count": 10,
   "id": "6297161f",
   "metadata": {},
   "outputs": [
    {
     "name": "stdout",
     "output_type": "stream",
     "text": [
      "Epoch 1/20\n",
      "32/32 [==============================] - 17s 486ms/step - loss: 0.6332 - accuracy: 0.6500 - val_loss: 0.4851 - val_accuracy: 0.8917\n",
      "Epoch 2/20\n",
      "32/32 [==============================] - 15s 467ms/step - loss: 0.5069 - accuracy: 0.7437 - val_loss: 0.4245 - val_accuracy: 0.8583\n",
      "Epoch 3/20\n",
      "32/32 [==============================] - 15s 470ms/step - loss: 0.4312 - accuracy: 0.8062 - val_loss: 0.3528 - val_accuracy: 0.9083\n",
      "Epoch 4/20\n",
      "32/32 [==============================] - 15s 470ms/step - loss: 0.3472 - accuracy: 0.8687 - val_loss: 0.3014 - val_accuracy: 0.9333\n",
      "Epoch 5/20\n",
      "32/32 [==============================] - 15s 470ms/step - loss: 0.2914 - accuracy: 0.9187 - val_loss: 0.3202 - val_accuracy: 0.8833\n",
      "Epoch 6/20\n",
      "32/32 [==============================] - 15s 475ms/step - loss: 0.2714 - accuracy: 0.9125 - val_loss: 0.2458 - val_accuracy: 0.9083\n",
      "Epoch 7/20\n",
      "32/32 [==============================] - 15s 470ms/step - loss: 0.2323 - accuracy: 0.9125 - val_loss: 0.2400 - val_accuracy: 0.9250\n",
      "Epoch 8/20\n",
      "32/32 [==============================] - 15s 467ms/step - loss: 0.2385 - accuracy: 0.9312 - val_loss: 0.2021 - val_accuracy: 0.9583\n",
      "Epoch 9/20\n",
      "32/32 [==============================] - 15s 470ms/step - loss: 0.2580 - accuracy: 0.9187 - val_loss: 0.1920 - val_accuracy: 0.9333\n",
      "Epoch 10/20\n",
      "32/32 [==============================] - 16s 503ms/step - loss: 0.1846 - accuracy: 0.9375 - val_loss: 0.1722 - val_accuracy: 0.9500\n",
      "Epoch 11/20\n",
      "32/32 [==============================] - 15s 489ms/step - loss: 0.1859 - accuracy: 0.9563 - val_loss: 0.1737 - val_accuracy: 0.9583\n",
      "Epoch 12/20\n",
      "32/32 [==============================] - 15s 471ms/step - loss: 0.1858 - accuracy: 0.9375 - val_loss: 0.1710 - val_accuracy: 0.9417\n",
      "Epoch 13/20\n",
      "32/32 [==============================] - 15s 467ms/step - loss: 0.1750 - accuracy: 0.9500 - val_loss: 0.1587 - val_accuracy: 0.9333\n",
      "Epoch 14/20\n",
      "32/32 [==============================] - 15s 471ms/step - loss: 0.1504 - accuracy: 0.9625 - val_loss: 0.1821 - val_accuracy: 0.9250\n",
      "Epoch 15/20\n",
      "32/32 [==============================] - 15s 479ms/step - loss: 0.1758 - accuracy: 0.9438 - val_loss: 0.1565 - val_accuracy: 0.9333\n",
      "Epoch 16/20\n",
      "32/32 [==============================] - 15s 465ms/step - loss: 0.1704 - accuracy: 0.9438 - val_loss: 0.1755 - val_accuracy: 0.9250\n",
      "Epoch 17/20\n",
      "32/32 [==============================] - 15s 471ms/step - loss: 0.1228 - accuracy: 0.9625 - val_loss: 0.1578 - val_accuracy: 0.9250\n",
      "Epoch 18/20\n",
      "32/32 [==============================] - 15s 468ms/step - loss: 0.0953 - accuracy: 0.9750 - val_loss: 0.1365 - val_accuracy: 0.9417\n",
      "Epoch 19/20\n",
      "32/32 [==============================] - 15s 478ms/step - loss: 0.1134 - accuracy: 0.9688 - val_loss: 0.1313 - val_accuracy: 0.9583\n",
      "Epoch 20/20\n",
      "32/32 [==============================] - 15s 474ms/step - loss: 0.1242 - accuracy: 0.9500 - val_loss: 0.1253 - val_accuracy: 0.9500\n"
     ]
    }
   ],
   "source": [
    "history = finetune_model.fit(\n",
    "    train_generator, epochs=20,\n",
    "    validation_data=test_generator,\n",
    "    callbacks=[early_stopping]\n",
    ")"
   ]
  },
  {
   "cell_type": "code",
   "execution_count": 11,
   "id": "6abf44d1",
   "metadata": {},
   "outputs": [
    {
     "data": {
      "image/png": "[encoded data removed]",
      "text/plain": [
       "<Figure size 640x480 with 1 Axes>"
      ]
     },
     "metadata": {},
     "output_type": "display_data"
    }
   ],
   "source": [
    "y_vloss = history.history['val_loss']\n",
    "y_loss = history.history['loss']\n",
    "\n",
    "# 그래프로 표현해 봅니다.\n",
    "x_len = np.arange(len(y_loss))\n",
    "plt.plot(x_len, y_vloss, marker='.', c=\"red\", label='Testset_loss')\n",
    "plt.plot(x_len, y_loss, marker='.', c=\"blue\", label='Trainset_loss')\n",
    "\n",
    "# 그래프에 그리드를 주고 레이블을 표시하겠습니다.\n",
    "plt.legend(loc='upper right')\n",
    "plt.grid()\n",
    "plt.xlabel('epoch')\n",
    "plt.ylabel('loss')\n",
    "plt.show()"
   ]
  }
 ],
 "metadata": {
  "kernelspec": {
   "display_name": "Python 3 (ipykernel)",
   "language": "python",
   "name": "python3"
  },
  "language_info": {
   "codemirror_mode": {
    "name": "ipython",
    "version": 3
   },
   "file_extension": ".py",
   "mimetype": "text/x-python",
   "name": "python",
   "nbconvert_exporter": "python",
   "pygments_lexer": "ipython3",
   "version": "3.8.15"
  }
 },
 "nbformat": 4,
 "nbformat_minor": 5
}
