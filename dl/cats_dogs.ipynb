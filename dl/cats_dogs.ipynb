{
 "cells": [
  {
   "cell_type": "code",
   "execution_count": 1,
   "id": "24e8db14",
   "metadata": {},
   "outputs": [],
   "source": [
    "# https://www.tensorflow.org/tutorials/load_data/images?hl=ko\n",
    "import os, shutil\n",
    "import matplotlib.pyplot as plt\n",
    "os.environ[\"KMP_DUPLICATE_LIB_OK\"]=\"TRUE\""
   ]
  },
  {
   "cell_type": "code",
   "execution_count": 2,
   "id": "151bd391",
   "metadata": {},
   "outputs": [],
   "source": [
    "original_dataset_dir='./train'\n",
    "\n",
    "base_dir = './data/cats_and_dogs'\n",
    "\n",
    "if not os.path.exists(base_dir):\n",
    "    os.mkdir(base_dir)"
   ]
  },
  {
   "cell_type": "code",
   "execution_count": 3,
   "id": "6cd11209",
   "metadata": {},
   "outputs": [],
   "source": [
    "train_dir = os.path.join(base_dir, 'train')\n",
    "# os.mkdir(train_dir)\n",
    "test_dir = os.path.join(base_dir, 'test')\n",
    "# os.mkdir(test_dir)"
   ]
  },
  {
   "cell_type": "code",
   "execution_count": 4,
   "id": "4ecd2195",
   "metadata": {},
   "outputs": [],
   "source": [
    "train_cats_dir = os.path.join(train_dir, 'cats')\n",
    "# os.mkdir(train_cats_dir)\n",
    "\n",
    "train_dogs_dir = os.path.join(train_dir, 'dogs')\n",
    "# os.mkdir(train_dogs_dir)\n"
   ]
  },
  {
   "cell_type": "code",
   "execution_count": 5,
   "id": "f380b1e8",
   "metadata": {},
   "outputs": [],
   "source": [
    "test_cats_dir = os.path.join(test_dir, 'cats')\n",
    "# os.mkdir(test_cats_dir)\n",
    "\n",
    "test_dogs_dir = os.path.join(test_dir, 'dogs')\n",
    "# os.mkdir(test_dogs_dir)\n"
   ]
  },
  {
   "cell_type": "code",
   "execution_count": 6,
   "id": "b5b69002",
   "metadata": {},
   "outputs": [],
   "source": [
    "# fnames = ['cat.{}.jpg'.format(i) for i in range(10000)]\n",
    "# for fname in fnames:\n",
    "#     src = os.path.join(original_dataset_dir, fname)\n",
    "#     dst = os.path.join(train_cats_dir, fname)\n",
    "#     shutil.copyfile(src, dst)\n",
    "    "
   ]
  },
  {
   "cell_type": "code",
   "execution_count": 7,
   "id": "5446830b",
   "metadata": {},
   "outputs": [],
   "source": [
    "# fnames = ['cat.{}.jpg'.format(i) for i in range(10000, 12500)]\n",
    "# for fname in fnames:\n",
    "#     src = os.path.join(original_dataset_dir, fname)\n",
    "#     dst = os.path.join(test_cats_dir, fname)\n",
    "#     shutil.copyfile(src, dst)"
   ]
  },
  {
   "cell_type": "code",
   "execution_count": 8,
   "id": "8e24beb0",
   "metadata": {},
   "outputs": [],
   "source": [
    "# fnames = ['dog.{}.jpg'.format(i) for i in range(10000)]\n",
    "# for fname in fnames:\n",
    "#     src = os.path.join(original_dataset_dir, fname)\n",
    "#     dst = os.path.join(train_dogs_dir, fname)\n",
    "#     shutil.copyfile(src, dst)\n",
    "    "
   ]
  },
  {
   "cell_type": "code",
   "execution_count": 9,
   "id": "01408571",
   "metadata": {},
   "outputs": [],
   "source": [
    "# fnames = ['dog.{}.jpg'.format(i) for i in range(10000, 12500)]\n",
    "# for fname in fnames:\n",
    "#     src = os.path.join(original_dataset_dir, fname)\n",
    "#     dst = os.path.join(test_dogs_dir, fname)\n",
    "#     shutil.copyfile(src, dst)"
   ]
  },
  {
   "cell_type": "code",
   "execution_count": 10,
   "id": "d89e7b59",
   "metadata": {},
   "outputs": [
    {
     "name": "stdout",
     "output_type": "stream",
     "text": [
      "훈련용 고양이 이미지 전체 개수: 10000\n",
      "훈련용 강아지 이미지 전체 개수: 10000\n",
      "테스트용 고양이 이미지 전체 개수: 2500\n",
      "테스트용 강아지 이미지 전체 개수: 2500\n"
     ]
    }
   ],
   "source": [
    "print('훈련용 고양이 이미지 전체 개수:', len(os.listdir(train_cats_dir)))\n",
    "print('훈련용 강아지 이미지 전체 개수:', len(os.listdir(train_dogs_dir)))\n",
    "print('테스트용 고양이 이미지 전체 개수:', len(os.listdir(test_cats_dir)))\n",
    "print('테스트용 강아지 이미지 전체 개수:', len(os.listdir(test_dogs_dir)))"
   ]
  },
  {
   "cell_type": "code",
   "execution_count": 11,
   "id": "73ca379c",
   "metadata": {},
   "outputs": [],
   "source": [
    "from tensorflow.keras import models, layers\n",
    "model = models.Sequential()\n",
    "model.add(layers.Conv2D(32, (3, 3), input_shape=(150, 150, 3), activation='relu'))\n",
    "model.add(layers.MaxPooling2D((2, 2)))\n",
    "model.add(layers.Conv2D(64, (3, 3), activation='relu'))\n",
    "model.add(layers.MaxPooling2D((2, 2)))\n",
    "model.add(layers.Conv2D(128, (3, 3), activation='relu'))\n",
    "model.add(layers.MaxPooling2D((2, 2)))\n",
    "model.add(layers.Conv2D(128, (3, 3), activation='relu'))\n",
    "model.add(layers.MaxPooling2D((2, 2)))\n",
    "model.add(layers.Flatten())\n",
    "model.add(layers.Dropout(0.5))\n",
    "model.add(layers.Dense(512, activation='relu'))\n",
    "model.add(layers.Dense(1, activation='sigmoid'))\n",
    "\n",
    "# 여러개의 커널은 해당 이미지 분석을 다양하게 하기 위해서 여러개가 존재함\n",
    "# 층은 적당히 조절하는게 좋다"
   ]
  },
  {
   "cell_type": "code",
   "execution_count": 12,
   "id": "c9ea51d2",
   "metadata": {},
   "outputs": [
    {
     "name": "stdout",
     "output_type": "stream",
     "text": [
      "Model: \"sequential\"\n",
      "_________________________________________________________________\n",
      " Layer (type)                Output Shape              Param #   \n",
      "=================================================================\n",
      " conv2d (Conv2D)             (None, 148, 148, 32)      896       \n",
      "                                                                 \n",
      " max_pooling2d (MaxPooling2D  (None, 74, 74, 32)       0         \n",
      " )                                                               \n",
      "                                                                 \n",
      " conv2d_1 (Conv2D)           (None, 72, 72, 64)        18496     \n",
      "                                                                 \n",
      " max_pooling2d_1 (MaxPooling  (None, 36, 36, 64)       0         \n",
      " 2D)                                                             \n",
      "                                                                 \n",
      " conv2d_2 (Conv2D)           (None, 34, 34, 128)       73856     \n",
      "                                                                 \n",
      " max_pooling2d_2 (MaxPooling  (None, 17, 17, 128)      0         \n",
      " 2D)                                                             \n",
      "                                                                 \n",
      " conv2d_3 (Conv2D)           (None, 15, 15, 128)       147584    \n",
      "                                                                 \n",
      " max_pooling2d_3 (MaxPooling  (None, 7, 7, 128)        0         \n",
      " 2D)                                                             \n",
      "                                                                 \n",
      " flatten (Flatten)           (None, 6272)              0         \n",
      "                                                                 \n",
      " dropout (Dropout)           (None, 6272)              0         \n",
      "                                                                 \n",
      " dense (Dense)               (None, 512)               3211776   \n",
      "                                                                 \n",
      " dense_1 (Dense)             (None, 1)                 513       \n",
      "                                                                 \n",
      "=================================================================\n",
      "Total params: 3,453,121\n",
      "Trainable params: 3,453,121\n",
      "Non-trainable params: 0\n",
      "_________________________________________________________________\n"
     ]
    }
   ],
   "source": [
    "model.summary()"
   ]
  },
  {
   "cell_type": "code",
   "execution_count": 13,
   "id": "5c7f1d58",
   "metadata": {},
   "outputs": [
    {
     "data": {
      "text/plain": [
       "896"
      ]
     },
     "execution_count": 13,
     "metadata": {},
     "output_type": "execute_result"
    }
   ],
   "source": [
    "32*3*9+32"
   ]
  },
  {
   "cell_type": "code",
   "execution_count": 14,
   "id": "9df32073",
   "metadata": {},
   "outputs": [
    {
     "data": {
      "text/plain": [
       "18496"
      ]
     },
     "execution_count": 14,
     "metadata": {},
     "output_type": "execute_result"
    }
   ],
   "source": [
    "32*64*9 + 64"
   ]
  },
  {
   "cell_type": "code",
   "execution_count": 15,
   "id": "831a1de4",
   "metadata": {},
   "outputs": [
    {
     "data": {
      "text/plain": [
       "73856"
      ]
     },
     "execution_count": 15,
     "metadata": {},
     "output_type": "execute_result"
    }
   ],
   "source": [
    "128*64*9 + 128"
   ]
  },
  {
   "cell_type": "code",
   "execution_count": 16,
   "id": "c13577b4",
   "metadata": {},
   "outputs": [
    {
     "data": {
      "text/plain": [
       "147584"
      ]
     },
     "execution_count": 16,
     "metadata": {},
     "output_type": "execute_result"
    }
   ],
   "source": [
    "128*128*9 + 128"
   ]
  },
  {
   "cell_type": "code",
   "execution_count": 17,
   "id": "20358b75",
   "metadata": {},
   "outputs": [
    {
     "data": {
      "text/plain": [
       "3211776"
      ]
     },
     "execution_count": 17,
     "metadata": {},
     "output_type": "execute_result"
    }
   ],
   "source": [
    "7*7*512*128+512"
   ]
  },
  {
   "cell_type": "code",
   "execution_count": 18,
   "id": "d04e0bb0",
   "metadata": {},
   "outputs": [
    {
     "data": {
      "text/plain": [
       "3453121"
      ]
     },
     "execution_count": 18,
     "metadata": {},
     "output_type": "execute_result"
    }
   ],
   "source": [
    "896+18496+73856+147584+3211776+513"
   ]
  },
  {
   "cell_type": "code",
   "execution_count": 19,
   "id": "76cef10d",
   "metadata": {},
   "outputs": [],
   "source": [
    "model.compile(loss='binary_crossentropy', optimizer='adam', metrics=['accuracy'])"
   ]
  },
  {
   "cell_type": "code",
   "execution_count": 20,
   "id": "7ee84fd0",
   "metadata": {},
   "outputs": [
    {
     "name": "stdout",
     "output_type": "stream",
     "text": [
      "Found 20000 images belonging to 2 classes.\n",
      "Found 5000 images belonging to 2 classes.\n"
     ]
    }
   ],
   "source": [
    "from tensorflow.keras.preprocessing.image import ImageDataGenerator\n",
    "\n",
    "train_datagen = ImageDataGenerator(rescale= 1./255)\n",
    "test_datagen = ImageDataGenerator(rescale= 1./255)\n",
    "\n",
    "train_generator = train_datagen.flow_from_directory(\n",
    "    train_dir,\n",
    "    target_size=(150, 150), # 파일사이즈를 조정함\n",
    "    batch_size=20,\n",
    "    class_mode='binary' # 폴더내의 target name을 0, 1로 분류, 다중분류는 categorical\n",
    "    )\n",
    "\n",
    "vaildation_generator = test_datagen.flow_from_directory(\n",
    "    test_dir,\n",
    "    target_size=(150, 150),\n",
    "    batch_size=20,\n",
    "    class_mode='binary'\n",
    "    )"
   ]
  },
  {
   "cell_type": "code",
   "execution_count": null,
   "id": "561d9d44",
   "metadata": {},
   "outputs": [
    {
     "name": "stdout",
     "output_type": "stream",
     "text": [
      "Epoch 1/2\n",
      "1000/1000 [==============================] - 409s 408ms/step - loss: 0.6647 - accuracy: 0.5782 - val_loss: 0.6489 - val_accuracy: 0.6270\n",
      "Epoch 2/2\n",
      " 431/1000 [===========>..................] - ETA: 1:58 - loss: 0.5809 - accuracy: 0.6835"
     ]
    }
   ],
   "source": [
    "history = model.fit(\n",
    "    train_generator,\n",
    "    epochs=2,\n",
    "    validation_data=vaildation_generator\n",
    ")"
   ]
  },
  {
   "cell_type": "code",
   "execution_count": null,
   "id": "3420a842",
   "metadata": {},
   "outputs": [],
   "source": [
    "acc = history.history['accuracy']\n",
    "val_acc = history.history['val_accuracy']\n",
    "loss = history.history['loss']\n",
    "val_loss = history.history['val_loss']\n",
    "\n",
    "epochs = range(len(acc))\n",
    "\n",
    "plt.plot(epochs, acc, 'ro', label='Training acc')\n",
    "plt.plot(epochs, val_acc, 'b', label='Validation acc')\n",
    "plt.title('Training and validation accuracy')\n",
    "plt.legend()\n",
    "\n",
    "plt.figure()\n",
    "\n",
    "plt.plot(epochs, loss, 'ro', label='Training loss')\n",
    "plt.plot(epochs, val_loss, 'b', label='Validation loss')\n",
    "plt.title('Training and validation loss')\n",
    "plt.legend()\n",
    "\n",
    "plt.show()"
   ]
  }
 ],
 "metadata": {
  "kernelspec": {
   "display_name": "Python 3 (ipykernel)",
   "language": "python",
   "name": "python3"
  },
  "language_info": {
   "codemirror_mode": {
    "name": "ipython",
    "version": 3
   },
   "file_extension": ".py",
   "mimetype": "text/x-python",
   "name": "python",
   "nbconvert_exporter": "python",
   "pygments_lexer": "ipython3",
   "version": "3.8.15"
  }
 },
 "nbformat": 4,
 "nbformat_minor": 5
}
