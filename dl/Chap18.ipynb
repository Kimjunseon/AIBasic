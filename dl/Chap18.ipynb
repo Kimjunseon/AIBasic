{
 "cells": [
  {
   "cell_type": "code",
   "execution_count": 1,
   "id": "bb154fbc",
   "metadata": {},
   "outputs": [],
   "source": [
    "from tensorflow.keras import models, layers\n",
    "from tensorflow.keras.utils import to_categorical\n",
    "from tensorflow.keras.preprocessing import sequence\n",
    "from tensorflow.keras.datasets import reuters\n",
    "from tensorflow.keras.callbacks import EarlyStopping\n",
    "import numpy as np\n",
    "import matplotlib.pyplot as plt\n",
    "import os\n",
    "os.environ[\"KMP_DUPLICATE_LIB_OK\"]=\"TRUE\""
   ]
  },
  {
   "cell_type": "code",
   "execution_count": 2,
   "id": "989b0abc",
   "metadata": {},
   "outputs": [],
   "source": [
    "# 빈도수가 높은 상위 1000번째까지 가져오기\n",
    "(X_train, y_train), (X_test, y_test) = reuters.load_data(num_words=1000, test_split=0.2)"
   ]
  },
  {
   "cell_type": "code",
   "execution_count": 3,
   "id": "0a2b3a77",
   "metadata": {},
   "outputs": [
    {
     "name": "stdout",
     "output_type": "stream",
     "text": [
      "46\n"
     ]
    }
   ],
   "source": [
    "print(np.max(y_train) + 1)"
   ]
  },
  {
   "cell_type": "code",
   "execution_count": 4,
   "id": "006ab5d5",
   "metadata": {},
   "outputs": [
    {
     "name": "stdout",
     "output_type": "stream",
     "text": [
      "8982\n"
     ]
    }
   ],
   "source": [
    "print(len(X_train))"
   ]
  },
  {
   "cell_type": "code",
   "execution_count": 5,
   "id": "7ab46324",
   "metadata": {},
   "outputs": [
    {
     "name": "stdout",
     "output_type": "stream",
     "text": [
      "2246\n"
     ]
    }
   ],
   "source": [
    "print(len(X_test))"
   ]
  },
  {
   "cell_type": "code",
   "execution_count": 6,
   "id": "eb36051b",
   "metadata": {},
   "outputs": [
    {
     "name": "stdout",
     "output_type": "stream",
     "text": [
      "[1, 2, 2, 8, 43, 10, 447, 5, 25, 207, 270, 5, 2, 111, 16, 369, 186, 90, 67, 7, 89, 5, 19, 102, 6, 19, 124, 15, 90, 67, 84, 22, 482, 26, 7, 48, 4, 49, 8, 864, 39, 209, 154, 6, 151, 6, 83, 11, 15, 22, 155, 11, 15, 7, 48, 9, 2, 2, 504, 6, 258, 6, 272, 11, 15, 22, 134, 44, 11, 15, 16, 8, 197, 2, 90, 67, 52, 29, 209, 30, 32, 132, 6, 109, 15, 17, 12]\n"
     ]
    }
   ],
   "source": [
    "print(X_train[0])"
   ]
  },
  {
   "cell_type": "code",
   "execution_count": 7,
   "id": "8e00755c",
   "metadata": {},
   "outputs": [],
   "source": [
    "X_train = sequence.pad_sequences(X_train, maxlen=100)\n",
    "X_test = sequence.pad_sequences(X_test, maxlen=100)"
   ]
  },
  {
   "cell_type": "code",
   "execution_count": 8,
   "id": "fd01d46e",
   "metadata": {},
   "outputs": [
    {
     "name": "stdout",
     "output_type": "stream",
     "text": [
      "[3 4 3 4 4]\n"
     ]
    }
   ],
   "source": [
    "print(y_train[:5])"
   ]
  },
  {
   "cell_type": "code",
   "execution_count": 9,
   "id": "07b86012",
   "metadata": {},
   "outputs": [],
   "source": [
    "y_train = to_categorical(y_train)\n",
    "y_test = to_categorical(y_test)"
   ]
  },
  {
   "cell_type": "code",
   "execution_count": 10,
   "id": "2492278b",
   "metadata": {},
   "outputs": [
    {
     "name": "stdout",
     "output_type": "stream",
     "text": [
      "[[0. 0. 0. 1. 0. 0. 0. 0. 0. 0. 0. 0. 0. 0. 0. 0. 0. 0. 0. 0. 0. 0. 0. 0.\n",
      "  0. 0. 0. 0. 0. 0. 0. 0. 0. 0. 0. 0. 0. 0. 0. 0. 0. 0. 0. 0. 0. 0.]\n",
      " [0. 0. 0. 0. 1. 0. 0. 0. 0. 0. 0. 0. 0. 0. 0. 0. 0. 0. 0. 0. 0. 0. 0. 0.\n",
      "  0. 0. 0. 0. 0. 0. 0. 0. 0. 0. 0. 0. 0. 0. 0. 0. 0. 0. 0. 0. 0. 0.]\n",
      " [0. 0. 0. 1. 0. 0. 0. 0. 0. 0. 0. 0. 0. 0. 0. 0. 0. 0. 0. 0. 0. 0. 0. 0.\n",
      "  0. 0. 0. 0. 0. 0. 0. 0. 0. 0. 0. 0. 0. 0. 0. 0. 0. 0. 0. 0. 0. 0.]\n",
      " [0. 0. 0. 0. 1. 0. 0. 0. 0. 0. 0. 0. 0. 0. 0. 0. 0. 0. 0. 0. 0. 0. 0. 0.\n",
      "  0. 0. 0. 0. 0. 0. 0. 0. 0. 0. 0. 0. 0. 0. 0. 0. 0. 0. 0. 0. 0. 0.]\n",
      " [0. 0. 0. 0. 1. 0. 0. 0. 0. 0. 0. 0. 0. 0. 0. 0. 0. 0. 0. 0. 0. 0. 0. 0.\n",
      "  0. 0. 0. 0. 0. 0. 0. 0. 0. 0. 0. 0. 0. 0. 0. 0. 0. 0. 0. 0. 0. 0.]]\n"
     ]
    }
   ],
   "source": [
    "print(y_train[:5])"
   ]
  },
  {
   "cell_type": "code",
   "execution_count": 11,
   "id": "566f802f",
   "metadata": {
    "scrolled": true
   },
   "outputs": [
    {
     "name": "stdout",
     "output_type": "stream",
     "text": [
      "Model: \"sequential\"\n",
      "_________________________________________________________________\n",
      " Layer (type)                Output Shape              Param #   \n",
      "=================================================================\n",
      " embedding (Embedding)       (None, None, 100)         100000    \n",
      "                                                                 \n",
      " lstm (LSTM)                 (None, 100)               80400     \n",
      "                                                                 \n",
      " dense (Dense)               (None, 46)                4646      \n",
      "                                                                 \n",
      "=================================================================\n",
      "Total params: 185,046\n",
      "Trainable params: 185,046\n",
      "Non-trainable params: 0\n",
      "_________________________________________________________________\n"
     ]
    }
   ],
   "source": [
    "model = models.Sequential()\n",
    "model.add(layers.Embedding(1000, 100))\n",
    "model.add(layers.LSTM(100, activation='tanh'))\n",
    "model.add(layers.Dense(46, activation='softmax'))\n",
    "model.summary()"
   ]
  },
  {
   "cell_type": "markdown",
   "id": "6b56862e",
   "metadata": {},
   "source": [
    "# 1개의 신경망 파라미터\n",
    "- 가중치 w\n",
    "- (input 100 + 전 단계 input 100) * output 100     \n",
    "     \n",
    "     \n",
    "- bias\n",
    "- output 1 * 100     \n",
    "    \n",
    "- 총 합은 w + bias = 20100"
   ]
  },
  {
   "cell_type": "code",
   "execution_count": 16,
   "id": "4cb3bff2",
   "metadata": {},
   "outputs": [],
   "source": [
    "model.compile(loss='categorical_crossentropy', optimizer = 'adam', metrics=['accuracy'])\n",
    "early_stopping = EarlyStopping(monitor='val_loss', patience=5)"
   ]
  },
  {
   "cell_type": "code",
   "execution_count": 17,
   "id": "961cccd8",
   "metadata": {},
   "outputs": [
    {
     "name": "stdout",
     "output_type": "stream",
     "text": [
      "Epoch 1/20\n",
      "450/450 [==============================] - 19s 36ms/step - loss: 2.2414 - accuracy: 0.4323 - val_loss: 1.9597 - val_accuracy: 0.5125\n",
      "Epoch 2/20\n",
      "450/450 [==============================] - 15s 34ms/step - loss: 1.8015 - accuracy: 0.5397 - val_loss: 1.7414 - val_accuracy: 0.5454\n",
      "Epoch 3/20\n",
      "450/450 [==============================] - 15s 34ms/step - loss: 1.7302 - accuracy: 0.5613 - val_loss: 1.7009 - val_accuracy: 0.5761\n",
      "Epoch 4/20\n",
      "450/450 [==============================] - 15s 34ms/step - loss: 1.5908 - accuracy: 0.5961 - val_loss: 1.5567 - val_accuracy: 0.5980\n",
      "Epoch 5/20\n",
      "450/450 [==============================] - 16s 35ms/step - loss: 1.4137 - accuracy: 0.6423 - val_loss: 1.3945 - val_accuracy: 0.6487\n",
      "Epoch 6/20\n",
      "450/450 [==============================] - 16s 35ms/step - loss: 1.2707 - accuracy: 0.6761 - val_loss: 1.3134 - val_accuracy: 0.6683\n",
      "Epoch 7/20\n",
      "450/450 [==============================] - 16s 35ms/step - loss: 1.1263 - accuracy: 0.7140 - val_loss: 1.2554 - val_accuracy: 0.6732\n",
      "Epoch 8/20\n",
      "450/450 [==============================] - 16s 35ms/step - loss: 1.0404 - accuracy: 0.7306 - val_loss: 1.2426 - val_accuracy: 0.6892\n",
      "Epoch 9/20\n",
      "450/450 [==============================] - 16s 35ms/step - loss: 0.9838 - accuracy: 0.7448 - val_loss: 1.1632 - val_accuracy: 0.7061\n",
      "Epoch 10/20\n",
      "450/450 [==============================] - 18s 40ms/step - loss: 0.9159 - accuracy: 0.7703 - val_loss: 1.1689 - val_accuracy: 0.7061\n",
      "Epoch 11/20\n",
      "450/450 [==============================] - 16s 36ms/step - loss: 0.8515 - accuracy: 0.7830 - val_loss: 1.1512 - val_accuracy: 0.7070\n",
      "Epoch 12/20\n",
      "450/450 [==============================] - 16s 35ms/step - loss: 0.7959 - accuracy: 0.7966 - val_loss: 1.1790 - val_accuracy: 0.7106\n",
      "Epoch 13/20\n",
      "450/450 [==============================] - 16s 35ms/step - loss: 0.7406 - accuracy: 0.8104 - val_loss: 1.1669 - val_accuracy: 0.7173\n",
      "Epoch 14/20\n",
      "450/450 [==============================] - 16s 35ms/step - loss: 0.6829 - accuracy: 0.8244 - val_loss: 1.1992 - val_accuracy: 0.7150\n",
      "Epoch 15/20\n",
      "450/450 [==============================] - 16s 35ms/step - loss: 0.6276 - accuracy: 0.8406 - val_loss: 1.1927 - val_accuracy: 0.7137\n",
      "Epoch 16/20\n",
      "450/450 [==============================] - 15s 34ms/step - loss: 0.5749 - accuracy: 0.8550 - val_loss: 1.2447 - val_accuracy: 0.7150\n"
     ]
    }
   ],
   "source": [
    "history = model.fit(X_train, y_train, batch_size=20, epochs=20,\n",
    "                   validation_data=(X_test, y_test), callbacks=[early_stopping])"
   ]
  },
  {
   "cell_type": "code",
   "execution_count": 18,
   "id": "54891958",
   "metadata": {},
   "outputs": [
    {
     "name": "stdout",
     "output_type": "stream",
     "text": [
      "71/71 [==============================] - 1s 12ms/step - loss: 1.2447 - accuracy: 0.7150\n",
      "Test Accuracy: 0.7150\n"
     ]
    }
   ],
   "source": [
    "print('Test Accuracy: %.4f' % (model.evaluate(X_test, y_test)[1]))"
   ]
  },
  {
   "cell_type": "code",
   "execution_count": 20,
   "id": "5dbce499",
   "metadata": {},
   "outputs": [
    {
     "data": {
      "image/png": "[encoded data removed]",
      "text/plain": [
       "<Figure size 640x480 with 1 Axes>"
      ]
     },
     "metadata": {},
     "output_type": "display_data"
    }
   ],
   "source": [
    "y_vloss = history.history['val_loss']\n",
    "y_loss = history.history['loss']\n",
    "\n",
    "# 그래프로 표현해 보겠습니다.\n",
    "x_len = np.arange(len(y_loss))\n",
    "plt.plot(x_len, y_vloss, marker='.', c=\"red\", label='Testset_loss')\n",
    "plt.plot(x_len, y_loss, marker='.', c=\"blue\", label='Trainset_loss')\n",
    "\n",
    "# 그래프에 그리드를 주고 레이블을 표시하겠습니다. \n",
    "plt.legend(loc='upper right')\n",
    "plt.grid()\n",
    "plt.xlabel('epoch')\n",
    "plt.ylabel('loss')\n",
    "plt.show()"
   ]
  }
 ],
 "metadata": {
  "kernelspec": {
   "display_name": "Python 3 (ipykernel)",
   "language": "python",
   "name": "python3"
  },
  "language_info": {
   "codemirror_mode": {
    "name": "ipython",
    "version": 3
   },
   "file_extension": ".py",
   "mimetype": "text/x-python",
   "name": "python",
   "nbconvert_exporter": "python",
   "pygments_lexer": "ipython3",
   "version": "3.8.15"
  }
 },
 "nbformat": 4,
 "nbformat_minor": 5
}
