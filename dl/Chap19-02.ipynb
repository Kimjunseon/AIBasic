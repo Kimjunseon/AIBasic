{
 "cells": [
  {
   "cell_type": "code",
   "execution_count": 6,
   "id": "e896ab26",
   "metadata": {},
   "outputs": [],
   "source": [
    "from tensorflow.keras.models import Sequential, Model\n",
    "from tensorflow.keras.layers import Input, Dense, Conv2D,\n",
    "MaxPooling2D, UpSampling2D, Flatten, Reshape\n",
    "from tensorflow.keras.datasets import mnist\n",
    "from tensorflow.keras import models, layers\n",
    "import numpy as np\n",
    "import matplotlib.pyplot as plt\n",
    "import os\n",
    "os.environ[\"KMP_DUPLICATE_LIB_OK\"]=\"TRUE\""
   ]
  },
  {
   "cell_type": "code",
   "execution_count": 7,
   "id": "92972974",
   "metadata": {},
   "outputs": [],
   "source": [
    "(X_train, _), (X_test, _) = mnist.load_data()\n",
    "X_train = X_train.reshape(X_train.shape[0], 28, 28, 1).astype('float32') / 255\n",
    "X_test = X_test.reshape(X_test.shape[0], 28, 28, 1).astype('float32') / 255"
   ]
  },
  {
   "cell_type": "code",
   "execution_count": 15,
   "id": "fa88199b",
   "metadata": {},
   "outputs": [
    {
     "name": "stdout",
     "output_type": "stream",
     "text": [
      "Model: \"sequential_8\"\n",
      "_________________________________________________________________\n",
      " Layer (type)                Output Shape              Param #   \n",
      "=================================================================\n",
      " conv2d_21 (Conv2D)          (None, 28, 28, 16)        160       \n",
      "                                                                 \n",
      " max_pooling2d_6 (MaxPooling  (None, 14, 14, 16)       0         \n",
      " 2D)                                                             \n",
      "                                                                 \n",
      " conv2d_22 (Conv2D)          (None, 14, 14, 8)         1160      \n",
      "                                                                 \n",
      " max_pooling2d_7 (MaxPooling  (None, 7, 7, 8)          0         \n",
      " 2D)                                                             \n",
      "                                                                 \n",
      " conv2d_23 (Conv2D)          (None, 4, 4, 8)           584       \n",
      "                                                                 \n",
      " conv2d_24 (Conv2D)          (None, 4, 4, 8)           584       \n",
      "                                                                 \n",
      " up_sampling2d_10 (UpSamplin  (None, 8, 8, 8)          0         \n",
      " g2D)                                                            \n",
      "                                                                 \n",
      " conv2d_25 (Conv2D)          (None, 8, 8, 8)           584       \n",
      "                                                                 \n",
      " up_sampling2d_11 (UpSamplin  (None, 16, 16, 8)        0         \n",
      " g2D)                                                            \n",
      "                                                                 \n",
      " conv2d_26 (Conv2D)          (None, 14, 14, 16)        1168      \n",
      "                                                                 \n",
      " up_sampling2d_12 (UpSamplin  (None, 28, 28, 16)       0         \n",
      " g2D)                                                            \n",
      "                                                                 \n",
      " conv2d_27 (Conv2D)          (None, 28, 28, 1)         145       \n",
      "                                                                 \n",
      "=================================================================\n",
      "Total params: 4,385\n",
      "Trainable params: 4,385\n",
      "Non-trainable params: 0\n",
      "_________________________________________________________________\n"
     ]
    }
   ],
   "source": [
    "autoencoder = Sequential()\n",
    "\n",
    "# 인코딩\n",
    "autoencoder.add(Conv2D(16, kernel_size=3, padding='same', input_shape=(28, 28,1),\n",
    "                       activation='relu'))\n",
    "autoencoder.add(MaxPooling2D(pool_size=2, padding='same'))\n",
    "autoencoder.add(Conv2D(8, kernel_size=3, activation='relu', padding='same'))                       \n",
    "autoencoder.add(MaxPooling2D(pool_size=2, padding='same'))\n",
    "autoencoder.add(Conv2D(8, kernel_size=3, strides=2, padding='same', activation='relu'))\n",
    "\n",
    "# 디코딩\n",
    "autoencoder.add(Conv2D(8, kernel_size=3, padding='same', activation='relu'))\n",
    "autoencoder.add(UpSampling2D())\n",
    "autoencoder.add(Conv2D(8, kernel_size=3, padding='same', activation='relu'))\n",
    "autoencoder.add(UpSampling2D())\n",
    "autoencoder.add(Conv2D(16, kernel_size=3, activation='relu'))\n",
    "autoencoder.add(UpSampling2D())\n",
    "autoencoder.add(Conv2D(1, kernel_size=3, padding='same', activation='sigmoid'))\n",
    "\n",
    "autoencoder.summary()"
   ]
  },
  {
   "cell_type": "code",
   "execution_count": 12,
   "id": "f33227b6",
   "metadata": {},
   "outputs": [
    {
     "name": "stdout",
     "output_type": "stream",
     "text": [
      "Epoch 1/50\n",
      "469/469 [==============================] - 85s 179ms/step - loss: 0.2067 - val_loss: 0.1379\n",
      "Epoch 2/50\n",
      "469/469 [==============================] - 83s 178ms/step - loss: 0.1278 - val_loss: 0.1195\n",
      "Epoch 3/50\n",
      "469/469 [==============================] - 84s 178ms/step - loss: 0.1161 - val_loss: 0.1115\n",
      "Epoch 4/50\n",
      "469/469 [==============================] - 85s 180ms/step - loss: 0.1102 - val_loss: 0.1068\n",
      "Epoch 5/50\n",
      "469/469 [==============================] - 83s 177ms/step - loss: 0.1059 - val_loss: 0.1030\n",
      "Epoch 6/50\n",
      "469/469 [==============================] - 83s 177ms/step - loss: 0.1027 - val_loss: 0.1003\n",
      "Epoch 7/50\n",
      "469/469 [==============================] - 84s 179ms/step - loss: 0.1001 - val_loss: 0.0978\n",
      "Epoch 8/50\n",
      "469/469 [==============================] - 84s 180ms/step - loss: 0.0976 - val_loss: 0.0955\n",
      "Epoch 9/50\n",
      "469/469 [==============================] - 84s 180ms/step - loss: 0.0956 - val_loss: 0.0936\n",
      "Epoch 10/50\n",
      "469/469 [==============================] - 84s 180ms/step - loss: 0.0941 - val_loss: 0.0925\n",
      "Epoch 11/50\n",
      "469/469 [==============================] - 85s 180ms/step - loss: 0.0930 - val_loss: 0.0912\n",
      "Epoch 12/50\n",
      "469/469 [==============================] - 83s 178ms/step - loss: 0.0919 - val_loss: 0.0903\n",
      "Epoch 13/50\n",
      "469/469 [==============================] - 84s 179ms/step - loss: 0.0911 - val_loss: 0.0897\n",
      "Epoch 14/50\n",
      "469/469 [==============================] - 87s 185ms/step - loss: 0.0903 - val_loss: 0.0889\n",
      "Epoch 15/50\n",
      "469/469 [==============================] - 83s 177ms/step - loss: 0.0898 - val_loss: 0.0884\n",
      "Epoch 16/50\n",
      "469/469 [==============================] - 84s 179ms/step - loss: 0.0892 - val_loss: 0.0884\n",
      "Epoch 17/50\n",
      "469/469 [==============================] - 86s 183ms/step - loss: 0.0886 - val_loss: 0.0873\n",
      "Epoch 18/50\n",
      "469/469 [==============================] - 84s 180ms/step - loss: 0.0882 - val_loss: 0.0868\n",
      "Epoch 19/50\n",
      "469/469 [==============================] - 84s 178ms/step - loss: 0.0878 - val_loss: 0.0865\n",
      "Epoch 20/50\n",
      "469/469 [==============================] - 84s 179ms/step - loss: 0.0875 - val_loss: 0.0861\n",
      "Epoch 21/50\n",
      "469/469 [==============================] - 85s 182ms/step - loss: 0.0871 - val_loss: 0.0861\n",
      "Epoch 22/50\n",
      "469/469 [==============================] - 85s 182ms/step - loss: 0.0868 - val_loss: 0.0857\n",
      "Epoch 23/50\n",
      "469/469 [==============================] - 85s 181ms/step - loss: 0.0865 - val_loss: 0.0852\n",
      "Epoch 24/50\n",
      "469/469 [==============================] - 85s 182ms/step - loss: 0.0863 - val_loss: 0.0851\n",
      "Epoch 25/50\n",
      "469/469 [==============================] - 89s 189ms/step - loss: 0.0860 - val_loss: 0.0850\n",
      "Epoch 26/50\n",
      "469/469 [==============================] - 83s 178ms/step - loss: 0.0858 - val_loss: 0.0846\n",
      "Epoch 27/50\n",
      "469/469 [==============================] - 84s 180ms/step - loss: 0.0855 - val_loss: 0.0843\n",
      "Epoch 28/50\n",
      "469/469 [==============================] - 85s 181ms/step - loss: 0.0854 - val_loss: 0.0841\n",
      "Epoch 29/50\n",
      "469/469 [==============================] - 84s 180ms/step - loss: 0.0852 - val_loss: 0.0841\n",
      "Epoch 30/50\n",
      "469/469 [==============================] - 84s 179ms/step - loss: 0.0849 - val_loss: 0.0837\n",
      "Epoch 31/50\n",
      "469/469 [==============================] - 85s 181ms/step - loss: 0.0848 - val_loss: 0.0838\n",
      "Epoch 32/50\n",
      "469/469 [==============================] - 84s 180ms/step - loss: 0.0846 - val_loss: 0.0834\n",
      "Epoch 33/50\n",
      "469/469 [==============================] - 84s 179ms/step - loss: 0.0844 - val_loss: 0.0832\n",
      "Epoch 34/50\n",
      "469/469 [==============================] - 85s 180ms/step - loss: 0.0843 - val_loss: 0.0831\n",
      "Epoch 35/50\n",
      "469/469 [==============================] - 84s 179ms/step - loss: 0.0841 - val_loss: 0.0830\n",
      "Epoch 36/50\n",
      "469/469 [==============================] - 84s 179ms/step - loss: 0.0840 - val_loss: 0.0832\n",
      "Epoch 37/50\n",
      "469/469 [==============================] - 83s 176ms/step - loss: 0.0838 - val_loss: 0.0830\n",
      "Epoch 38/50\n",
      "469/469 [==============================] - 85s 181ms/step - loss: 0.0837 - val_loss: 0.0824\n",
      "Epoch 39/50\n",
      "469/469 [==============================] - 83s 176ms/step - loss: 0.0835 - val_loss: 0.0825\n",
      "Epoch 40/50\n",
      "469/469 [==============================] - 82s 174ms/step - loss: 0.0833 - val_loss: 0.0821\n",
      "Epoch 41/50\n",
      "469/469 [==============================] - 83s 177ms/step - loss: 0.0832 - val_loss: 0.0821\n",
      "Epoch 42/50\n",
      "469/469 [==============================] - 84s 179ms/step - loss: 0.0831 - val_loss: 0.0820\n",
      "Epoch 43/50\n",
      "469/469 [==============================] - 84s 178ms/step - loss: 0.0829 - val_loss: 0.0818\n",
      "Epoch 44/50\n",
      "469/469 [==============================] - 83s 178ms/step - loss: 0.0827 - val_loss: 0.0816\n",
      "Epoch 45/50\n",
      "469/469 [==============================] - 84s 180ms/step - loss: 0.0826 - val_loss: 0.0817\n",
      "Epoch 46/50\n",
      "469/469 [==============================] - 84s 179ms/step - loss: 0.0825 - val_loss: 0.0815\n",
      "Epoch 47/50\n",
      "469/469 [==============================] - 84s 180ms/step - loss: 0.0823 - val_loss: 0.0813\n",
      "Epoch 48/50\n",
      "469/469 [==============================] - 84s 179ms/step - loss: 0.0823 - val_loss: 0.0813\n",
      "Epoch 49/50\n",
      "469/469 [==============================] - 84s 179ms/step - loss: 0.0821 - val_loss: 0.0810\n",
      "Epoch 50/50\n",
      "469/469 [==============================] - 84s 180ms/step - loss: 0.0820 - val_loss: 0.0811\n"
     ]
    },
    {
     "data": {
      "text/plain": [
       "<keras.callbacks.History at 0x210814cd310>"
      ]
     },
     "execution_count": 12,
     "metadata": {},
     "output_type": "execute_result"
    }
   ],
   "source": [
    "autoencoder.compile(loss='binary_crossentropy', optimizer='adam')\n",
    "autoencoder.fit(X_train, X_train, epochs=50, batch_size=128, validation_data=(X_test, X_test))"
   ]
  },
  {
   "cell_type": "code",
   "execution_count": 13,
   "id": "41d0faf0",
   "metadata": {},
   "outputs": [
    {
     "name": "stdout",
     "output_type": "stream",
     "text": [
      "313/313 [==============================] - 1s 3ms/step\n"
     ]
    },
    {
     "data": {
      "image/png": "[encoded data removed]",
      "text/plain": [
       "<Figure size 700x200 with 10 Axes>"
      ]
     },
     "metadata": {},
     "output_type": "display_data"
    }
   ],
   "source": [
    "random_test = np.random.randint(X_test.shape[0], size=5)  # 테스트할 이미지를 랜덤하게 불러옵니다.\n",
    "ae_imgs = autoencoder.predict(X_test)                     # 앞서 만든 오토인코더 모델에 집어 넣습니다.\n",
    "\n",
    "plt.figure(figsize=(7, 2))                         # 출력될 이미지의 크기를 정합니다.\n",
    "\n",
    "for i, image_idx in enumerate(random_test):       # 랜덤하게 뽑은 이미지를 차례로 나열합니다.\n",
    "   ax = plt.subplot(2, 7, i + 1) \n",
    "   plt.imshow(X_test[image_idx].reshape(28, 28))   # 테스트할 이미지를 먼저 그대로 보여줍니다.\n",
    "   ax.axis('off')\n",
    "   ax = plt.subplot(2, 7, 7 + i +1)\n",
    "   plt.imshow(ae_imgs[image_idx].reshape(28, 28)) # 오토인코딩 결과를 다음열에 출력합니다.\n",
    "   ax.axis('off')\n",
    "plt.show()"
   ]
  }
 ],
 "metadata": {
  "kernelspec": {
   "display_name": "Python 3 (ipykernel)",
   "language": "python",
   "name": "python3"
  },
  "language_info": {
   "codemirror_mode": {
    "name": "ipython",
    "version": 3
   },
   "file_extension": ".py",
   "mimetype": "text/x-python",
   "name": "python",
   "nbconvert_exporter": "python",
   "pygments_lexer": "ipython3",
   "version": "3.8.15"
  }
 },
 "nbformat": 4,
 "nbformat_minor": 5
}
