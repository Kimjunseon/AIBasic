{
 "cells": [
  {
   "cell_type": "code",
   "execution_count": 2,
   "id": "24e8db14",
   "metadata": {},
   "outputs": [],
   "source": [
    "import os, shutil\n"
   ]
  },
  {
   "cell_type": "code",
   "execution_count": 3,
   "id": "151bd391",
   "metadata": {},
   "outputs": [],
   "source": [
    "original_dataset_dir='./train'\n",
    "\n",
    "base_dir = './data/cats_and_dogs'\n",
    "\n",
    "if not os.path.exists(base_dir):\n",
    "    os.mkdir(base_dir)"
   ]
  },
  {
   "cell_type": "code",
   "execution_count": 6,
   "id": "6cd11209",
   "metadata": {},
   "outputs": [],
   "source": [
    "train_dir = os.path.join(base_dir, 'train')\n",
    "os.mkdir(train_dir)\n",
    "test_dir = os.path.join(base_dir, 'test')\n",
    "os.mkdir(test_dir)"
   ]
  },
  {
   "cell_type": "code",
   "execution_count": 7,
   "id": "4ecd2195",
   "metadata": {},
   "outputs": [],
   "source": [
    "train_cats_dir = os.path.join(train_dir, 'cats')\n",
    "os.mkdir(train_cats_dir)\n",
    "\n",
    "train_dogs_dir = os.path.join(train_dir, 'dogs')\n",
    "os.mkdir(train_dogs_dir)\n"
   ]
  },
  {
   "cell_type": "code",
   "execution_count": 8,
   "id": "f380b1e8",
   "metadata": {},
   "outputs": [],
   "source": [
    "test_cats_dir = os.path.join(test_dir, 'cats')\n",
    "os.mkdir(test_cats_dir)\n",
    "\n",
    "test_dogs_dir = os.path.join(test_dir, 'dogs')\n",
    "os.mkdir(test_dogs_dir)\n"
   ]
  },
  {
   "cell_type": "code",
   "execution_count": 10,
   "id": "b5b69002",
   "metadata": {},
   "outputs": [],
   "source": [
    "fnames = ['cat.{}.jpg'.format(i) for i in range(10000)]\n",
    "for fname in fnames:\n",
    "    src = os.path.join(original_dataset_dir, fname)\n",
    "    dst = os.path.join(train_cats_dir, fname)\n",
    "    shutil.copyfile(src, dst)\n",
    "    "
   ]
  },
  {
   "cell_type": "code",
   "execution_count": 13,
   "id": "5446830b",
   "metadata": {},
   "outputs": [],
   "source": [
    "fnames = ['cat.{}.jpg'.format(i) for i in range(10000, 12500)]\n",
    "for fname in fnames:\n",
    "    src = os.path.join(original_dataset_dir, fname)\n",
    "    dst = os.path.join(test_cats_dir, fname)\n",
    "    shutil.copyfile(src, dst)"
   ]
  },
  {
   "cell_type": "code",
   "execution_count": 12,
   "id": "8e24beb0",
   "metadata": {},
   "outputs": [],
   "source": [
    "fnames = ['dog.{}.jpg'.format(i) for i in range(10000)]\n",
    "for fname in fnames:\n",
    "    src = os.path.join(original_dataset_dir, fname)\n",
    "    dst = os.path.join(train_dogs_dir, fname)\n",
    "    shutil.copyfile(src, dst)\n",
    "    "
   ]
  },
  {
   "cell_type": "code",
   "execution_count": 14,
   "id": "01408571",
   "metadata": {},
   "outputs": [],
   "source": [
    "fnames = ['dog.{}.jpg'.format(i) for i in range(10000, 12500)]\n",
    "for fname in fnames:\n",
    "    src = os.path.join(original_dataset_dir, fname)\n",
    "    dst = os.path.join(test_dogs_dir, fname)\n",
    "    shutil.copyfile(src, dst)"
   ]
  },
  {
   "cell_type": "code",
   "execution_count": 15,
   "id": "d89e7b59",
   "metadata": {},
   "outputs": [
    {
     "name": "stdout",
     "output_type": "stream",
     "text": [
      "훈련용 고양이 이미지 전체 개수: 10000\n",
      "훈련용 강아지 이미지 전체 개수: 10000\n",
      "테스트용 고양이 이미지 전체 개수: 2500\n",
      "테스트용 강아지 이미지 전체 개수: 2500\n"
     ]
    }
   ],
   "source": [
    "print('훈련용 고양이 이미지 전체 개수:', len(os.listdir(train_cats_dir)))\n",
    "print('훈련용 강아지 이미지 전체 개수:', len(os.listdir(train_dogs_dir)))\n",
    "print('테스트용 고양이 이미지 전체 개수:', len(os.listdir(test_cats_dir)))\n",
    "print('테스트용 강아지 이미지 전체 개수:', len(os.listdir(test_dogs_dir)))"
   ]
  },
  {
   "cell_type": "code",
   "execution_count": 16,
   "id": "73ca379c",
   "metadata": {},
   "outputs": [],
   "source": [
    "from tensorflow.keras import models, layers\n",
    "model = models.Sequential()\n",
    "model.add(layers.Conv2D(32, (3, 3), input_shape=(150, 150, 3), activation='relu'))\n",
    "model.add(layers.MaxPooling2D((2, 2)))\n",
    "model.add(layers.Conv2D(64, (3, 3), activation='relu'))\n",
    "model.add(layers.MaxPooling2D((2, 2)))\n",
    "model.add(layers.Conv2D(128, (3, 3), activation='relu'))\n",
    "model.add(layers.MaxPooling2D((2, 2)))\n",
    "model.add(layers.Conv2D(128, (3, 3), activation='relu'))\n",
    "model.add(layers.MaxPooling2D((2, 2)))\n",
    "model.add(layers.Flatten())\n",
    "model.add(layers.Dropout(0.5))\n",
    "model.add(layers.Dense(512, activation='relu'))\n",
    "model.add(layers.Dense(1, activation='sigmoid'))\n",
    "\n",
    "# 여러개의 커널은 해당 이미지 분석을 다양하게 하기 위해서 여러개가 존재함\n",
    "# 층은 적당히 조절하는게 좋다"
   ]
  },
  {
   "cell_type": "code",
   "execution_count": 18,
   "id": "c9ea51d2",
   "metadata": {},
   "outputs": [
    {
     "name": "stdout",
     "output_type": "stream",
     "text": [
      "Model: \"sequential\"\n",
      "_________________________________________________________________\n",
      " Layer (type)                Output Shape              Param #   \n",
      "=================================================================\n",
      " conv2d (Conv2D)             (None, 148, 148, 32)      896       \n",
      "                                                                 \n",
      " max_pooling2d (MaxPooling2D  (None, 74, 74, 32)       0         \n",
      " )                                                               \n",
      "                                                                 \n",
      " conv2d_1 (Conv2D)           (None, 72, 72, 64)        18496     \n",
      "                                                                 \n",
      " max_pooling2d_1 (MaxPooling  (None, 36, 36, 64)       0         \n",
      " 2D)                                                             \n",
      "                                                                 \n",
      " conv2d_2 (Conv2D)           (None, 34, 34, 128)       73856     \n",
      "                                                                 \n",
      " max_pooling2d_2 (MaxPooling  (None, 17, 17, 128)      0         \n",
      " 2D)                                                             \n",
      "                                                                 \n",
      " conv2d_3 (Conv2D)           (None, 15, 15, 128)       147584    \n",
      "                                                                 \n",
      " max_pooling2d_3 (MaxPooling  (None, 7, 7, 128)        0         \n",
      " 2D)                                                             \n",
      "                                                                 \n",
      " flatten (Flatten)           (None, 6272)              0         \n",
      "                                                                 \n",
      " dropout (Dropout)           (None, 6272)              0         \n",
      "                                                                 \n",
      " dense (Dense)               (None, 512)               3211776   \n",
      "                                                                 \n",
      " dense_1 (Dense)             (None, 1)                 513       \n",
      "                                                                 \n",
      "=================================================================\n",
      "Total params: 3,453,121\n",
      "Trainable params: 3,453,121\n",
      "Non-trainable params: 0\n",
      "_________________________________________________________________\n"
     ]
    }
   ],
   "source": [
    "model.summary()"
   ]
  },
  {
   "cell_type": "code",
   "execution_count": 32,
   "id": "5c7f1d58",
   "metadata": {},
   "outputs": [
    {
     "data": {
      "text/plain": [
       "896"
      ]
     },
     "execution_count": 32,
     "metadata": {},
     "output_type": "execute_result"
    }
   ],
   "source": [
    "32*3*9+32"
   ]
  },
  {
   "cell_type": "code",
   "execution_count": 40,
   "id": "9df32073",
   "metadata": {},
   "outputs": [
    {
     "data": {
      "text/plain": [
       "18496"
      ]
     },
     "execution_count": 40,
     "metadata": {},
     "output_type": "execute_result"
    }
   ],
   "source": [
    "32*64*9 + 64"
   ]
  },
  {
   "cell_type": "code",
   "execution_count": 42,
   "id": "831a1de4",
   "metadata": {},
   "outputs": [
    {
     "data": {
      "text/plain": [
       "73856"
      ]
     },
     "execution_count": 42,
     "metadata": {},
     "output_type": "execute_result"
    }
   ],
   "source": [
    "128*64*9 + 128"
   ]
  },
  {
   "cell_type": "code",
   "execution_count": 44,
   "id": "c13577b4",
   "metadata": {},
   "outputs": [
    {
     "data": {
      "text/plain": [
       "147584"
      ]
     },
     "execution_count": 44,
     "metadata": {},
     "output_type": "execute_result"
    }
   ],
   "source": [
    "128*128*9 + 128"
   ]
  },
  {
   "cell_type": "code",
   "execution_count": 47,
   "id": "20358b75",
   "metadata": {},
   "outputs": [
    {
     "data": {
      "text/plain": [
       "3211776"
      ]
     },
     "execution_count": 47,
     "metadata": {},
     "output_type": "execute_result"
    }
   ],
   "source": [
    "7*7*512*128+512"
   ]
  },
  {
   "cell_type": "code",
   "execution_count": 49,
   "id": "d04e0bb0",
   "metadata": {},
   "outputs": [
    {
     "data": {
      "text/plain": [
       "3453121"
      ]
     },
     "execution_count": 49,
     "metadata": {},
     "output_type": "execute_result"
    }
   ],
   "source": [
    "896+18496+73856+147584+3211776+513"
   ]
  },
  {
   "cell_type": "code",
   "execution_count": 52,
   "id": "76cef10d",
   "metadata": {},
   "outputs": [],
   "source": [
    "model.compile(loss='binary_crossentropy', optimizer='adam', metrics=['accuracy'])"
   ]
  },
  {
   "cell_type": "code",
   "execution_count": 54,
   "id": "7ee84fd0",
   "metadata": {},
   "outputs": [
    {
     "name": "stdout",
     "output_type": "stream",
     "text": [
      "Found 20000 images belonging to 2 classes.\n",
      "Found 5000 images belonging to 2 classes.\n"
     ]
    }
   ],
   "source": [
    "from tensorflow.keras.preprocessing.image import ImageDataGenerator\n",
    "\n",
    "train_datagen = ImageDataGenerator(rescale= 1./255)\n",
    "test_datagen = ImageDataGenerator(rescale= 1./255)\n",
    "\n",
    "train_generator = train_datagen.flow_from_directory(\n",
    "    train_dir,\n",
    "    target_size=(150, 150), # 파일사이즈를 조정함\n",
    "    batch_size=20,\n",
    "    class_mode='binary' # 폴더내의 target name을 0, 1로 분류, 다중분류는 categorical\n",
    "    )\n",
    "\n",
    "vaildation_generator = test_datagen.flow_from_directory(\n",
    "    test_dir,\n",
    "    target_size=(150, 150),\n",
    "    batch_size=20,\n",
    "    class_mode='binary'\n",
    "    )"
   ]
  },
  {
   "cell_type": "code",
   "execution_count": 56,
   "id": "561d9d44",
   "metadata": {},
   "outputs": [
    {
     "name": "stdout",
     "output_type": "stream",
     "text": [
      "Epoch 1/30\n",
      "1000/1000 [==============================] - 425s 424ms/step - loss: 0.6800 - accuracy: 0.5612 - val_loss: 0.6464 - val_accuracy: 0.6072\n",
      "Epoch 2/30\n",
      "1000/1000 [==============================] - 232s 232ms/step - loss: 0.5834 - accuracy: 0.6860 - val_loss: 0.5198 - val_accuracy: 0.7438\n",
      "Epoch 3/30\n",
      "1000/1000 [==============================] - 230s 230ms/step - loss: 0.4938 - accuracy: 0.7559 - val_loss: 0.4468 - val_accuracy: 0.7918\n",
      "Epoch 4/30\n",
      "1000/1000 [==============================] - 229s 229ms/step - loss: 0.4260 - accuracy: 0.8039 - val_loss: 0.4295 - val_accuracy: 0.7996\n",
      "Epoch 5/30\n",
      "1000/1000 [==============================] - 230s 230ms/step - loss: 0.3619 - accuracy: 0.8397 - val_loss: 0.3595 - val_accuracy: 0.8422\n",
      "Epoch 6/30\n",
      "1000/1000 [==============================] - 231s 230ms/step - loss: 0.3173 - accuracy: 0.8629 - val_loss: 0.3645 - val_accuracy: 0.8400\n",
      "Epoch 7/30\n",
      "1000/1000 [==============================] - 238s 238ms/step - loss: 0.2767 - accuracy: 0.8807 - val_loss: 0.3034 - val_accuracy: 0.8700\n",
      "Epoch 8/30\n",
      "1000/1000 [==============================] - 229s 229ms/step - loss: 0.2421 - accuracy: 0.8984 - val_loss: 0.2853 - val_accuracy: 0.8782\n",
      "Epoch 9/30\n",
      "1000/1000 [==============================] - 261s 261ms/step - loss: 0.2137 - accuracy: 0.9119 - val_loss: 0.3304 - val_accuracy: 0.8658\n",
      "Epoch 10/30\n",
      "1000/1000 [==============================] - 249s 248ms/step - loss: 0.1943 - accuracy: 0.9197 - val_loss: 0.2724 - val_accuracy: 0.8854\n",
      "Epoch 11/30\n",
      "1000/1000 [==============================] - 227s 227ms/step - loss: 0.1720 - accuracy: 0.9316 - val_loss: 0.2665 - val_accuracy: 0.8894\n",
      "Epoch 12/30\n",
      "1000/1000 [==============================] - 226s 226ms/step - loss: 0.1471 - accuracy: 0.9424 - val_loss: 0.2592 - val_accuracy: 0.8988\n",
      "Epoch 13/30\n",
      "1000/1000 [==============================] - 226s 226ms/step - loss: 0.1268 - accuracy: 0.9489 - val_loss: 0.3141 - val_accuracy: 0.8870\n",
      "Epoch 14/30\n",
      "1000/1000 [==============================] - 225s 225ms/step - loss: 0.1154 - accuracy: 0.9554 - val_loss: 0.2746 - val_accuracy: 0.8964\n",
      "Epoch 15/30\n",
      "1000/1000 [==============================] - 226s 226ms/step - loss: 0.1047 - accuracy: 0.9605 - val_loss: 0.3401 - val_accuracy: 0.8808\n",
      "Epoch 16/30\n",
      "1000/1000 [==============================] - 228s 228ms/step - loss: 0.1011 - accuracy: 0.9622 - val_loss: 0.2892 - val_accuracy: 0.8950\n",
      "Epoch 17/30\n",
      "1000/1000 [==============================] - 228s 228ms/step - loss: 0.0861 - accuracy: 0.9678 - val_loss: 0.2870 - val_accuracy: 0.8974\n",
      "Epoch 18/30\n",
      "1000/1000 [==============================] - 233s 233ms/step - loss: 0.0852 - accuracy: 0.9688 - val_loss: 0.3158 - val_accuracy: 0.9000\n",
      "Epoch 19/30\n",
      "1000/1000 [==============================] - 234s 234ms/step - loss: 0.0801 - accuracy: 0.9704 - val_loss: 0.3269 - val_accuracy: 0.8858\n",
      "Epoch 20/30\n",
      "1000/1000 [==============================] - 225s 225ms/step - loss: 0.0692 - accuracy: 0.9751 - val_loss: 0.3577 - val_accuracy: 0.8902\n",
      "Epoch 21/30\n",
      "1000/1000 [==============================] - 225s 225ms/step - loss: 0.0693 - accuracy: 0.9750 - val_loss: 0.3693 - val_accuracy: 0.8946\n",
      "Epoch 22/30\n",
      "1000/1000 [==============================] - 234s 234ms/step - loss: 0.0614 - accuracy: 0.9780 - val_loss: 0.3697 - val_accuracy: 0.8896\n",
      "Epoch 23/30\n",
      "1000/1000 [==============================] - 235s 235ms/step - loss: 0.0689 - accuracy: 0.9752 - val_loss: 0.3252 - val_accuracy: 0.8926\n",
      "Epoch 24/30\n",
      "1000/1000 [==============================] - 231s 231ms/step - loss: 0.0530 - accuracy: 0.9811 - val_loss: 0.3848 - val_accuracy: 0.8886\n",
      "Epoch 25/30\n",
      "1000/1000 [==============================] - 229s 229ms/step - loss: 0.0455 - accuracy: 0.9837 - val_loss: 0.4008 - val_accuracy: 0.8912\n",
      "Epoch 26/30\n",
      "1000/1000 [==============================] - 226s 226ms/step - loss: 0.0589 - accuracy: 0.9800 - val_loss: 0.3649 - val_accuracy: 0.8940\n",
      "Epoch 27/30\n",
      "1000/1000 [==============================] - 230s 230ms/step - loss: 0.0518 - accuracy: 0.9819 - val_loss: 0.5729 - val_accuracy: 0.8818\n",
      "Epoch 28/30\n",
      "1000/1000 [==============================] - 227s 227ms/step - loss: 0.0575 - accuracy: 0.9795 - val_loss: 0.4210 - val_accuracy: 0.8942\n",
      "Epoch 29/30\n",
      "1000/1000 [==============================] - 223s 223ms/step - loss: 0.0463 - accuracy: 0.9845 - val_loss: 0.3311 - val_accuracy: 0.8976\n",
      "Epoch 30/30\n",
      "1000/1000 [==============================] - 224s 224ms/step - loss: 0.0507 - accuracy: 0.9831 - val_loss: 0.4793 - val_accuracy: 0.8780\n"
     ]
    },
    {
     "data": {
      "text/plain": [
       "<keras.callbacks.History at 0x1e8687d6910>"
      ]
     },
     "execution_count": 56,
     "metadata": {},
     "output_type": "execute_result"
    }
   ],
   "source": [
    "history = model.fit(\n",
    "    train_generator,\n",
    "    epochs=30,\n",
    "    validation_data=vaildation_generator\n",
    ")"
   ]
  },
  {
   "cell_type": "code",
   "execution_count": 58,
   "id": "3420a842",
   "metadata": {},
   "outputs": [
    {
     "ename": "AttributeError",
     "evalue": "'function' object has no attribute 'history'",
     "output_type": "error",
     "traceback": [
      "\u001b[1;31m---------------------------------------------------------------------------\u001b[0m",
      "\u001b[1;31mAttributeError\u001b[0m                            Traceback (most recent call last)",
      "Cell \u001b[1;32mIn[58], line 1\u001b[0m\n\u001b[1;32m----> 1\u001b[0m acc \u001b[38;5;241m=\u001b[39m \u001b[43mmodel\u001b[49m\u001b[38;5;241;43m.\u001b[39;49m\u001b[43mfit\u001b[49m\u001b[38;5;241;43m.\u001b[39;49m\u001b[43mhistory\u001b[49m[\u001b[38;5;124m'\u001b[39m\u001b[38;5;124maccuracy\u001b[39m\u001b[38;5;124m'\u001b[39m]\n\u001b[0;32m      2\u001b[0m val_acc \u001b[38;5;241m=\u001b[39m model\u001b[38;5;241m.\u001b[39mfit\u001b[38;5;241m.\u001b[39mhistory[\u001b[38;5;124m'\u001b[39m\u001b[38;5;124mval_accuracy\u001b[39m\u001b[38;5;124m'\u001b[39m]\n\u001b[0;32m      3\u001b[0m loss \u001b[38;5;241m=\u001b[39m model\u001b[38;5;241m.\u001b[39mfit\u001b[38;5;241m.\u001b[39mhistory[\u001b[38;5;124m'\u001b[39m\u001b[38;5;124mloss\u001b[39m\u001b[38;5;124m'\u001b[39m]\n",
      "\u001b[1;31mAttributeError\u001b[0m: 'function' object has no attribute 'history'"
     ]
    }
   ],
   "source": [
    "acc = history.history['accuracy']\n",
    "val_acc = history.history['val_accuracy']\n",
    "loss = history.history['loss']\n",
    "val_loss = history.history['val_loss']\n",
    "\n",
    "epochs = range(len(acc))\n",
    "\n",
    "plt.plot(epochs, acc, 'ro', label='Training acc')\n",
    "plt.plot(epochs, val_acc, 'b', label='Validation acc')\n",
    "plt.title('Training and validation accuracy')\n",
    "plt.legend()\n",
    "\n",
    "plt.figure()\n",
    "\n",
    "plt.plot(epochs, loss, 'ro', label='Training loss')\n",
    "plt.plot(epochs, val_loss, 'b', label='Validation loss')\n",
    "plt.title('Training and validation loss')\n",
    "plt.legend()\n",
    "\n",
    "plt.show()"
   ]
  }
 ],
 "metadata": {
  "kernelspec": {
   "display_name": "Python 3 (ipykernel)",
   "language": "python",
   "name": "python3"
  },
  "language_info": {
   "codemirror_mode": {
    "name": "ipython",
    "version": 3
   },
   "file_extension": ".py",
   "mimetype": "text/x-python",
   "name": "python",
   "nbconvert_exporter": "python",
   "pygments_lexer": "ipython3",
   "version": "3.8.15"
  }
 },
 "nbformat": 4,
 "nbformat_minor": 5
}
