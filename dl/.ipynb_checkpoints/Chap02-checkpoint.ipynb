{
 "cells": [
  {
   "cell_type": "code",
   "execution_count": 18,
   "id": "95a0f544",
   "metadata": {},
   "outputs": [],
   "source": [
    "from tensorflow.keras import models, layers\n",
    "import numpy as np"
   ]
  },
  {
   "cell_type": "code",
   "execution_count": 19,
   "id": "2013e5d1",
   "metadata": {},
   "outputs": [],
   "source": [
    "data_set = np.loadtxt('data/ThoraricSurgery3.csv', delimiter=',')\n",
    "X = data_set[:, :16]\n",
    "y = data_set[:, 16]"
   ]
  },
  {
   "cell_type": "code",
   "execution_count": 20,
   "id": "1e3842c5",
   "metadata": {},
   "outputs": [],
   "source": [
    "model = models.Sequential() # Sequential 모델 지정\n",
    "\n",
    "# Fully Connected layer = Dense\n",
    "# 30은 출력 개수, 16은 입력 개수, 활성화 함수는 relu로 지정\n",
    "model.add(layers.Dense(30, input_dim=16, activation='relu'))\n",
    "\n",
    "\n",
    "model.add(layers.Dense(1, activation='sigmoid')) # 이진 분류"
   ]
  },
  {
   "cell_type": "code",
   "execution_count": 13,
   "id": "3fe2a783",
   "metadata": {},
   "outputs": [
    {
     "data": {
      "text/plain": [
       "541"
      ]
     },
     "execution_count": 13,
     "metadata": {},
     "output_type": "execute_result"
    }
   ],
   "source": [
    "# w(i -> w) b    w(i -> y)    b\n",
    "(30*16) + 30 + 30 + 1"
   ]
  },
  {
   "cell_type": "code",
   "execution_count": 21,
   "id": "5452f41b",
   "metadata": {},
   "outputs": [
    {
     "name": "stdout",
     "output_type": "stream",
     "text": [
      "Model: \"sequential_1\"\n",
      "_________________________________________________________________\n",
      " Layer (type)                Output Shape              Param #   \n",
      "=================================================================\n",
      " dense_2 (Dense)             (None, 30)                510       \n",
      "                                                                 \n",
      " dense_3 (Dense)             (None, 1)                 31        \n",
      "                                                                 \n",
      "=================================================================\n",
      "Total params: 541\n",
      "Trainable params: 541\n",
      "Non-trainable params: 0\n",
      "_________________________________________________________________\n"
     ]
    }
   ],
   "source": [
    "model.summary()"
   ]
  },
  {
   "cell_type": "code",
   "execution_count": 23,
   "id": "c22524c5",
   "metadata": {},
   "outputs": [],
   "source": [
    "model.compile(loss='binary_crossentropy', optimizer='adam', metrics=['accuracy'])"
   ]
  },
  {
   "cell_type": "code",
   "execution_count": 24,
   "id": "36a73048",
   "metadata": {},
   "outputs": [
    {
     "name": "stdout",
     "output_type": "stream",
     "text": [
      "Epoch 1/5\n",
      "30/30 [==============================] - 1s 1ms/step - loss: 0.5967 - accuracy: 0.8404\n",
      "Epoch 2/5\n",
      "30/30 [==============================] - 0s 1ms/step - loss: 0.4386 - accuracy: 0.8511\n",
      "Epoch 3/5\n",
      "30/30 [==============================] - 0s 1ms/step - loss: 0.4364 - accuracy: 0.8511\n",
      "Epoch 4/5\n",
      "30/30 [==============================] - 0s 1ms/step - loss: 0.4304 - accuracy: 0.8511\n",
      "Epoch 5/5\n",
      "30/30 [==============================] - 0s 1ms/step - loss: 0.4370 - accuracy: 0.8489\n"
     ]
    }
   ],
   "source": [
    "history = model.fit(X, y, epochs=5, batch_size=16)"
   ]
  },
  {
   "cell_type": "code",
   "execution_count": null,
   "id": "a5f83186",
   "metadata": {},
   "outputs": [],
   "source": []
  }
 ],
 "metadata": {
  "kernelspec": {
   "display_name": "Python 3 (ipykernel)",
   "language": "python",
   "name": "python3"
  },
  "language_info": {
   "codemirror_mode": {
    "name": "ipython",
    "version": 3
   },
   "file_extension": ".py",
   "mimetype": "text/x-python",
   "name": "python",
   "nbconvert_exporter": "python",
   "pygments_lexer": "ipython3",
   "version": "3.8.15"
  }
 },
 "nbformat": 4,
 "nbformat_minor": 5
}
