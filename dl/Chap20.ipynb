{
 "cells": [
  {
   "cell_type": "code",
   "execution_count": 1,
   "id": "d51d9745",
   "metadata": {},
   "outputs": [],
   "source": [
    "from tensorflow.keras import models, layers, optimizers\n",
    "from tensorflow.keras.preprocessing.image import ImageDataGenerator\n",
    "from tensorflow.keras.callbacks import EarlyStopping\n",
    "import numpy as np\n",
    "import matplotlib.pyplot as plt\n",
    "import os\n",
    "os.environ[\"KMP_DUPLICATE_LIB_OK\"]=\"TRUE\""
   ]
  },
  {
   "cell_type": "code",
   "execution_count": 2,
   "id": "97fa4776",
   "metadata": {},
   "outputs": [],
   "source": [
    "BATCH_SIZE = 5"
   ]
  },
  {
   "cell_type": "code",
   "execution_count": 3,
   "id": "cca6f5cd",
   "metadata": {},
   "outputs": [],
   "source": [
    "train_datagen = ImageDataGenerator(rescale=1./255,          # 주어진 이미지의 크기를 설정합니다.\n",
    "                                  horizontal_flip=True,     # 수평 대칭 이미지를 50% 확률로 만들어 추가합니다.\n",
    "                                  width_shift_range=0.1,    # 전체 크기의 15% 범위에서 좌우로 이동합니다.\n",
    "                                  height_shift_range=0.1,   # 마찬가지로 위, 아래로 이동합니다.\n",
    "                                  #rotation_range=5,        # 정해진 각도만큼 회전시킵니다.\n",
    "                                  #shear_range=0.7,         # 좌표 하나를 고정시키고 나머지를 이동시킵니다.\n",
    "                                  #zoom_range=1.2,          # 확대 또는 축소시킵니다.\n",
    "                                  #vertical_flip=True,      # 수직 대칭 이미지를 만듭니다.\n",
    "                                  #fill_mode='nearest'      # 빈 공간을 채우는 방법입니다. nearest 옵션은 가장 비슷한 색으로 채우게 됩니다.\n",
    "                                  )     "
   ]
  },
  {
   "cell_type": "code",
   "execution_count": 4,
   "id": "fe5a770a",
   "metadata": {},
   "outputs": [
    {
     "name": "stdout",
     "output_type": "stream",
     "text": [
      "Found 160 images belonging to 2 classes.\n"
     ]
    }
   ],
   "source": [
    "train_generator = train_datagen.flow_from_directory(\n",
    "       './data/train',   # 학습셋이 있는 폴더의 위치입니다.\n",
    "       target_size=(150, 150),\n",
    "       batch_size=BATCH_SIZE,\n",
    "       class_mode='binary')"
   ]
  },
  {
   "cell_type": "code",
   "execution_count": 5,
   "id": "c4ee28e9",
   "metadata": {},
   "outputs": [
    {
     "name": "stdout",
     "output_type": "stream",
     "text": [
      "Found 120 images belonging to 2 classes.\n"
     ]
    }
   ],
   "source": [
    "test_datagen = ImageDataGenerator(rescale=1./255)  \n",
    "\n",
    "test_generator = test_datagen.flow_from_directory(\n",
    "       './data/test',   # 테스트셋이 있는 폴더의 위치입니다.\n",
    "       target_size=(150, 150),\n",
    "       batch_size=BATCH_SIZE,\n",
    "       class_mode='binary')"
   ]
  },
  {
   "cell_type": "code",
   "execution_count": 7,
   "id": "99bb9960",
   "metadata": {},
   "outputs": [
    {
     "name": "stdout",
     "output_type": "stream",
     "text": [
      "Model: \"sequential_1\"\n",
      "_________________________________________________________________\n",
      " Layer (type)                Output Shape              Param #   \n",
      "=================================================================\n",
      " conv2d_1 (Conv2D)           (None, 148, 148, 32)      896       \n",
      "                                                                 \n",
      " activation_1 (Activation)   (None, 148, 148, 32)      0         \n",
      "                                                                 \n",
      " max_pooling2d (MaxPooling2D  (None, 74, 74, 32)       0         \n",
      " )                                                               \n",
      "                                                                 \n",
      " conv2d_2 (Conv2D)           (None, 72, 72, 32)        9248      \n",
      "                                                                 \n",
      " activation_2 (Activation)   (None, 72, 72, 32)        0         \n",
      "                                                                 \n",
      " max_pooling2d_1 (MaxPooling  (None, 36, 36, 32)       0         \n",
      " 2D)                                                             \n",
      "                                                                 \n",
      " conv2d_3 (Conv2D)           (None, 34, 34, 64)        18496     \n",
      "                                                                 \n",
      " activation_3 (Activation)   (None, 34, 34, 64)        0         \n",
      "                                                                 \n",
      " max_pooling2d_2 (MaxPooling  (None, 17, 17, 64)       0         \n",
      " 2D)                                                             \n",
      "                                                                 \n",
      " flatten (Flatten)           (None, 18496)             0         \n",
      "                                                                 \n",
      " dense (Dense)               (None, 64)                1183808   \n",
      "                                                                 \n",
      " activation_4 (Activation)   (None, 64)                0         \n",
      "                                                                 \n",
      " dropout (Dropout)           (None, 64)                0         \n",
      "                                                                 \n",
      " dense_1 (Dense)             (None, 1)                 65        \n",
      "                                                                 \n",
      " activation_5 (Activation)   (None, 1)                 0         \n",
      "                                                                 \n",
      "=================================================================\n",
      "Total params: 1,212,513\n",
      "Trainable params: 1,212,513\n",
      "Non-trainable params: 0\n",
      "_________________________________________________________________\n"
     ]
    }
   ],
   "source": [
    "model = models.Sequential()\n",
    "model.add(layers.Conv2D(32, (3,3), input_shape=(150, 150, 3)))\n",
    "model.add(layers.Activation('relu')) # 라인 2에 activation = relu와 동일\n",
    "model.add(layers.MaxPooling2D(pool_size=(2, 2)))\n",
    "\n",
    "model.add(layers.Conv2D(32, (3,3)))\n",
    "model.add(layers.Activation('relu'))\n",
    "model.add(layers.MaxPooling2D(pool_size=(2, 2)))\n",
    "\n",
    "model.add(layers.Conv2D(64, (3,3)))\n",
    "model.add(layers.Activation('relu'))\n",
    "model.add(layers.MaxPooling2D(pool_size=(2, 2)))\n",
    "\n",
    "model.add(layers.Flatten())\n",
    "model.add(layers.Dense(64))\n",
    "model.add(layers.Activation('relu'))\n",
    "model.add(layers.Dropout(0.5))\n",
    "model.add(layers.Dense(1))\n",
    "model.add(layers.Activation('sigmoid'))\n",
    "model.summary()\n"
   ]
  },
  {
   "cell_type": "code",
   "execution_count": 8,
   "id": "1dfb9bd5",
   "metadata": {},
   "outputs": [],
   "source": [
    "model.compile(loss='binary_crossentropy',\n",
    "              optimizer=optimizers.Adam(learning_rate=0.0002),\n",
    "             metrics=['accuracy'])\n",
    "early_stopping = EarlyStopping(monitor='val_loss', patience=5)\n"
   ]
  },
  {
   "cell_type": "code",
   "execution_count": 9,
   "id": "912f7186",
   "metadata": {},
   "outputs": [
    {
     "name": "stdout",
     "output_type": "stream",
     "text": [
      "Epoch 1/100\n",
      "32/32 [==============================] - 4s 81ms/step - loss: 0.7076 - accuracy: 0.4875 - val_loss: 0.6873 - val_accuracy: 0.5000\n",
      "Epoch 2/100\n",
      "32/32 [==============================] - 2s 62ms/step - loss: 0.6885 - accuracy: 0.5188 - val_loss: 0.6772 - val_accuracy: 0.5250\n",
      "Epoch 3/100\n",
      "32/32 [==============================] - 2s 63ms/step - loss: 0.6819 - accuracy: 0.6000 - val_loss: 0.6670 - val_accuracy: 0.5083\n",
      "Epoch 4/100\n",
      "32/32 [==============================] - 2s 62ms/step - loss: 0.6602 - accuracy: 0.5875 - val_loss: 0.6461 - val_accuracy: 0.5667\n",
      "Epoch 5/100\n",
      "32/32 [==============================] - 2s 62ms/step - loss: 0.6483 - accuracy: 0.6375 - val_loss: 0.6559 - val_accuracy: 0.5083\n",
      "Epoch 6/100\n",
      "32/32 [==============================] - 2s 62ms/step - loss: 0.6403 - accuracy: 0.6438 - val_loss: 0.5894 - val_accuracy: 0.6167\n",
      "Epoch 7/100\n",
      "32/32 [==============================] - 2s 62ms/step - loss: 0.6007 - accuracy: 0.7250 - val_loss: 0.5549 - val_accuracy: 0.7583\n",
      "Epoch 8/100\n",
      "32/32 [==============================] - 2s 61ms/step - loss: 0.5401 - accuracy: 0.7625 - val_loss: 0.4572 - val_accuracy: 0.8250\n",
      "Epoch 9/100\n",
      "32/32 [==============================] - 2s 62ms/step - loss: 0.4839 - accuracy: 0.7937 - val_loss: 0.4077 - val_accuracy: 0.8417\n",
      "Epoch 10/100\n",
      "32/32 [==============================] - 2s 62ms/step - loss: 0.4827 - accuracy: 0.7812 - val_loss: 0.3730 - val_accuracy: 0.8500\n",
      "Epoch 11/100\n",
      "32/32 [==============================] - 2s 63ms/step - loss: 0.4296 - accuracy: 0.8375 - val_loss: 0.2993 - val_accuracy: 0.9250\n",
      "Epoch 12/100\n",
      "32/32 [==============================] - 2s 64ms/step - loss: 0.3965 - accuracy: 0.8125 - val_loss: 0.2496 - val_accuracy: 0.9250\n",
      "Epoch 13/100\n",
      "32/32 [==============================] - 2s 62ms/step - loss: 0.3086 - accuracy: 0.8813 - val_loss: 0.3546 - val_accuracy: 0.8083\n",
      "Epoch 14/100\n",
      "32/32 [==============================] - 2s 61ms/step - loss: 0.3234 - accuracy: 0.8687 - val_loss: 0.2145 - val_accuracy: 0.9500\n",
      "Epoch 15/100\n",
      "32/32 [==============================] - 2s 63ms/step - loss: 0.2186 - accuracy: 0.9125 - val_loss: 0.1883 - val_accuracy: 0.9500\n",
      "Epoch 16/100\n",
      "32/32 [==============================] - 2s 66ms/step - loss: 0.2602 - accuracy: 0.8750 - val_loss: 0.3071 - val_accuracy: 0.8500\n",
      "Epoch 17/100\n",
      "32/32 [==============================] - 2s 66ms/step - loss: 0.2238 - accuracy: 0.9312 - val_loss: 0.1265 - val_accuracy: 0.9667\n",
      "Epoch 18/100\n",
      "32/32 [==============================] - 3s 81ms/step - loss: 0.1935 - accuracy: 0.9500 - val_loss: 0.1787 - val_accuracy: 0.9333\n",
      "Epoch 19/100\n",
      "32/32 [==============================] - 2s 65ms/step - loss: 0.2020 - accuracy: 0.9438 - val_loss: 0.1133 - val_accuracy: 0.9667\n",
      "Epoch 20/100\n",
      "32/32 [==============================] - 2s 63ms/step - loss: 0.2680 - accuracy: 0.8750 - val_loss: 0.1852 - val_accuracy: 0.9250\n",
      "Epoch 21/100\n",
      "32/32 [==============================] - 2s 63ms/step - loss: 0.1903 - accuracy: 0.9500 - val_loss: 0.1190 - val_accuracy: 0.9750\n",
      "Epoch 22/100\n",
      "32/32 [==============================] - 2s 60ms/step - loss: 0.1875 - accuracy: 0.9375 - val_loss: 0.0974 - val_accuracy: 0.9833\n",
      "Epoch 23/100\n",
      "32/32 [==============================] - 2s 60ms/step - loss: 0.1331 - accuracy: 0.9563 - val_loss: 0.0825 - val_accuracy: 0.9667\n",
      "Epoch 24/100\n",
      "32/32 [==============================] - 2s 62ms/step - loss: 0.1521 - accuracy: 0.9688 - val_loss: 0.1080 - val_accuracy: 0.9667\n",
      "Epoch 25/100\n",
      "32/32 [==============================] - 2s 76ms/step - loss: 0.1456 - accuracy: 0.9563 - val_loss: 0.1305 - val_accuracy: 0.9500\n",
      "Epoch 26/100\n",
      "32/32 [==============================] - 4s 131ms/step - loss: 0.1699 - accuracy: 0.9375 - val_loss: 0.2371 - val_accuracy: 0.9083\n",
      "Epoch 27/100\n",
      "32/32 [==============================] - 2s 65ms/step - loss: 0.1392 - accuracy: 0.9500 - val_loss: 0.0721 - val_accuracy: 0.9750\n",
      "Epoch 28/100\n",
      "32/32 [==============================] - 2s 68ms/step - loss: 0.1046 - accuracy: 0.9688 - val_loss: 0.0815 - val_accuracy: 0.9750\n",
      "Epoch 29/100\n",
      "32/32 [==============================] - 2s 60ms/step - loss: 0.0952 - accuracy: 0.9750 - val_loss: 0.1534 - val_accuracy: 0.9167\n",
      "Epoch 30/100\n",
      "32/32 [==============================] - 2s 62ms/step - loss: 0.1406 - accuracy: 0.9438 - val_loss: 0.1641 - val_accuracy: 0.9083\n",
      "Epoch 31/100\n",
      "32/32 [==============================] - 2s 62ms/step - loss: 0.1282 - accuracy: 0.9500 - val_loss: 0.0703 - val_accuracy: 0.9833\n",
      "Epoch 32/100\n",
      "32/32 [==============================] - 2s 60ms/step - loss: 0.1169 - accuracy: 0.9625 - val_loss: 0.0746 - val_accuracy: 0.9750\n",
      "Epoch 33/100\n",
      "32/32 [==============================] - 2s 62ms/step - loss: 0.0657 - accuracy: 0.9875 - val_loss: 0.1783 - val_accuracy: 0.9167\n",
      "Epoch 34/100\n",
      "32/32 [==============================] - 2s 61ms/step - loss: 0.1165 - accuracy: 0.9625 - val_loss: 0.0549 - val_accuracy: 0.9750\n",
      "Epoch 35/100\n",
      "32/32 [==============================] - 2s 62ms/step - loss: 0.0799 - accuracy: 0.9625 - val_loss: 0.0547 - val_accuracy: 0.9750\n",
      "Epoch 36/100\n",
      "32/32 [==============================] - 2s 60ms/step - loss: 0.0859 - accuracy: 0.9688 - val_loss: 0.2091 - val_accuracy: 0.9083\n",
      "Epoch 37/100\n",
      "32/32 [==============================] - 2s 61ms/step - loss: 0.0889 - accuracy: 0.9688 - val_loss: 0.0605 - val_accuracy: 0.9750\n",
      "Epoch 38/100\n",
      "32/32 [==============================] - 2s 62ms/step - loss: 0.1167 - accuracy: 0.9812 - val_loss: 0.0624 - val_accuracy: 0.9833\n",
      "Epoch 39/100\n",
      "32/32 [==============================] - 2s 62ms/step - loss: 0.1110 - accuracy: 0.9625 - val_loss: 0.0542 - val_accuracy: 0.9833\n",
      "Epoch 40/100\n",
      "32/32 [==============================] - 2s 65ms/step - loss: 0.0608 - accuracy: 0.9750 - val_loss: 0.0499 - val_accuracy: 0.9833\n",
      "Epoch 41/100\n",
      "32/32 [==============================] - 2s 61ms/step - loss: 0.0773 - accuracy: 0.9750 - val_loss: 0.1033 - val_accuracy: 0.9667\n",
      "Epoch 42/100\n",
      "32/32 [==============================] - 2s 64ms/step - loss: 0.0808 - accuracy: 0.9500 - val_loss: 0.0587 - val_accuracy: 0.9833\n",
      "Epoch 43/100\n",
      "32/32 [==============================] - 2s 64ms/step - loss: 0.0450 - accuracy: 0.9937 - val_loss: 0.0468 - val_accuracy: 0.9750\n",
      "Epoch 44/100\n",
      "32/32 [==============================] - 2s 62ms/step - loss: 0.1120 - accuracy: 0.9688 - val_loss: 0.0521 - val_accuracy: 0.9833\n",
      "Epoch 45/100\n",
      "32/32 [==============================] - 2s 64ms/step - loss: 0.1076 - accuracy: 0.9750 - val_loss: 0.0603 - val_accuracy: 0.9750\n",
      "Epoch 46/100\n",
      "32/32 [==============================] - 2s 66ms/step - loss: 0.0676 - accuracy: 0.9750 - val_loss: 0.0604 - val_accuracy: 0.9833\n",
      "Epoch 47/100\n",
      "32/32 [==============================] - 2s 66ms/step - loss: 0.0623 - accuracy: 0.9812 - val_loss: 0.0467 - val_accuracy: 0.9750\n",
      "Epoch 48/100\n",
      "32/32 [==============================] - 2s 67ms/step - loss: 0.0893 - accuracy: 0.9750 - val_loss: 0.0980 - val_accuracy: 0.9750\n",
      "Epoch 49/100\n",
      "32/32 [==============================] - 2s 71ms/step - loss: 0.1105 - accuracy: 0.9688 - val_loss: 0.0564 - val_accuracy: 0.9833\n",
      "Epoch 50/100\n",
      "32/32 [==============================] - 2s 67ms/step - loss: 0.0558 - accuracy: 0.9750 - val_loss: 0.0434 - val_accuracy: 0.9750\n",
      "Epoch 51/100\n",
      "32/32 [==============================] - 2s 66ms/step - loss: 0.0594 - accuracy: 0.9688 - val_loss: 0.0550 - val_accuracy: 0.9750\n",
      "Epoch 52/100\n",
      "32/32 [==============================] - 2s 63ms/step - loss: 0.1002 - accuracy: 0.9625 - val_loss: 0.0408 - val_accuracy: 0.9750\n",
      "Epoch 53/100\n",
      "32/32 [==============================] - 2s 63ms/step - loss: 0.0563 - accuracy: 0.9937 - val_loss: 0.0454 - val_accuracy: 0.9750\n",
      "Epoch 54/100\n",
      "32/32 [==============================] - 2s 67ms/step - loss: 0.0982 - accuracy: 0.9688 - val_loss: 0.0473 - val_accuracy: 0.9833\n",
      "Epoch 55/100\n",
      "32/32 [==============================] - 2s 65ms/step - loss: 0.0898 - accuracy: 0.9812 - val_loss: 0.0935 - val_accuracy: 0.9667\n",
      "Epoch 56/100\n",
      "32/32 [==============================] - 2s 68ms/step - loss: 0.0546 - accuracy: 0.9937 - val_loss: 0.0412 - val_accuracy: 0.9750\n",
      "Epoch 57/100\n",
      "32/32 [==============================] - 2s 71ms/step - loss: 0.0456 - accuracy: 0.9875 - val_loss: 0.0914 - val_accuracy: 0.9750\n"
     ]
    }
   ],
   "source": [
    "history = model.fit(\n",
    "    train_generator, epochs=100,\n",
    "    validation_data=test_generator,\n",
    "    callbacks=[early_stopping]\n",
    ")"
   ]
  },
  {
   "cell_type": "code",
   "execution_count": 13,
   "id": "24dcb602",
   "metadata": {},
   "outputs": [
    {
     "name": "stderr",
     "output_type": "stream",
     "text": [
      "C:\\Users\\BIT\\AppData\\Local\\Temp\\ipykernel_1108\\912229180.py:1: DeprecationWarning: Importing display from IPython.core.display is deprecated since IPython 7.14, please import from IPython display\n",
      "  from IPython.core.display import display, HTML\n"
     ]
    },
    {
     "data": {
      "text/html": [
       "<style>.container { width:90% !important; }</style>"
      ],
      "text/plain": [
       "<IPython.core.display.HTML object>"
      ]
     },
     "metadata": {},
     "output_type": "display_data"
    }
   ],
   "source": [
    "from IPython.core.display import display, HTML\n",
    "display(HTML(\"<style>.container { width:90% !important; }</style>\"))"
   ]
  },
  {
   "cell_type": "code",
   "execution_count": 11,
   "id": "917d81b1",
   "metadata": {},
   "outputs": [
    {
     "data": {
      "image/png": "[encoded data removed]",
      "text/plain": [
       "<Figure size 640x480 with 1 Axes>"
      ]
     },
     "metadata": {},
     "output_type": "display_data"
    }
   ],
   "source": [
    "y_vloss = history.history['val_loss']\n",
    "y_loss = history.history['loss']\n",
    "\n",
    "# 그래프로 표현해 봅니다.\n",
    "x_len = np.arange(len(y_loss))\n",
    "plt.plot(x_len, y_vloss, marker='.', c=\"red\", label='Testset_loss')\n",
    "plt.plot(x_len, y_loss, marker='.', c=\"blue\", label='Trainset_loss')\n",
    "\n",
    "# 그래프에 그리드를 주고 레이블을 표시하겠습니다.\n",
    "plt.legend(loc='upper right')\n",
    "plt.grid()\n",
    "plt.xlabel('epoch')\n",
    "plt.ylabel('loss')\n",
    "plt.show()"
   ]
  }
 ],
 "metadata": {
  "kernelspec": {
   "display_name": "Python 3 (ipykernel)",
   "language": "python",
   "name": "python3"
  },
  "language_info": {
   "codemirror_mode": {
    "name": "ipython",
    "version": 3
   },
   "file_extension": ".py",
   "mimetype": "text/x-python",
   "name": "python",
   "nbconvert_exporter": "python",
   "pygments_lexer": "ipython3",
   "version": "3.8.15"
  }
 },
 "nbformat": 4,
 "nbformat_minor": 5
}
